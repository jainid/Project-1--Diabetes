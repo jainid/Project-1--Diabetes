{
 "cells": [
  {
   "cell_type": "code",
   "execution_count": 3,
   "id": "023efa9f-faae-498c-8f9a-040774416cfd",
   "metadata": {},
   "outputs": [],
   "source": [
    "import pandas as pd"
   ]
  },
  {
   "cell_type": "code",
   "execution_count": 4,
   "id": "844c0767-c152-44bb-8a6f-7f93d652e7fe",
   "metadata": {},
   "outputs": [],
   "source": [
    "data1 = pd.read_csv(\"Dataset_Final_Project.csv\")"
   ]
  },
  {
   "cell_type": "code",
   "execution_count": 5,
   "id": "274260a5-a2ce-4726-a26d-49d68ffd4af1",
   "metadata": {},
   "outputs": [
    {
     "data": {
      "text/html": [
       "<div>\n",
       "<style scoped>\n",
       "    .dataframe tbody tr th:only-of-type {\n",
       "        vertical-align: middle;\n",
       "    }\n",
       "\n",
       "    .dataframe tbody tr th {\n",
       "        vertical-align: top;\n",
       "    }\n",
       "\n",
       "    .dataframe thead th {\n",
       "        text-align: right;\n",
       "    }\n",
       "</style>\n",
       "<table border=\"1\" class=\"dataframe\">\n",
       "  <thead>\n",
       "    <tr style=\"text-align: right;\">\n",
       "      <th></th>\n",
       "      <th>Unnamed: 0</th>\n",
       "      <th>Pregnancies</th>\n",
       "      <th>Glucose</th>\n",
       "      <th>BloodPressure</th>\n",
       "      <th>SkinThickness</th>\n",
       "      <th>Insulin</th>\n",
       "      <th>BMI</th>\n",
       "      <th>DiabetesPedigreeFunction</th>\n",
       "      <th>Age</th>\n",
       "      <th>Outcome</th>\n",
       "      <th>ID</th>\n",
       "    </tr>\n",
       "  </thead>\n",
       "  <tbody>\n",
       "    <tr>\n",
       "      <th>0</th>\n",
       "      <td>0</td>\n",
       "      <td>6</td>\n",
       "      <td>148</td>\n",
       "      <td>72</td>\n",
       "      <td>35</td>\n",
       "      <td>0</td>\n",
       "      <td>33.6</td>\n",
       "      <td>0.627</td>\n",
       "      <td>50</td>\n",
       "      <td>1</td>\n",
       "      <td>254163</td>\n",
       "    </tr>\n",
       "    <tr>\n",
       "      <th>1</th>\n",
       "      <td>1</td>\n",
       "      <td>1</td>\n",
       "      <td>85</td>\n",
       "      <td>66</td>\n",
       "      <td>29</td>\n",
       "      <td>0</td>\n",
       "      <td>26.6</td>\n",
       "      <td>0.351</td>\n",
       "      <td>31</td>\n",
       "      <td>0</td>\n",
       "      <td>717276</td>\n",
       "    </tr>\n",
       "    <tr>\n",
       "      <th>2</th>\n",
       "      <td>2</td>\n",
       "      <td>8</td>\n",
       "      <td>183</td>\n",
       "      <td>64</td>\n",
       "      <td>0</td>\n",
       "      <td>0</td>\n",
       "      <td>23.3</td>\n",
       "      <td>0.672</td>\n",
       "      <td>32</td>\n",
       "      <td>1</td>\n",
       "      <td>578356</td>\n",
       "    </tr>\n",
       "    <tr>\n",
       "      <th>3</th>\n",
       "      <td>3</td>\n",
       "      <td>1</td>\n",
       "      <td>89</td>\n",
       "      <td>66</td>\n",
       "      <td>23</td>\n",
       "      <td>94</td>\n",
       "      <td>28.1</td>\n",
       "      <td>0.167</td>\n",
       "      <td>21</td>\n",
       "      <td>0</td>\n",
       "      <td>882563</td>\n",
       "    </tr>\n",
       "    <tr>\n",
       "      <th>4</th>\n",
       "      <td>4</td>\n",
       "      <td>0</td>\n",
       "      <td>137</td>\n",
       "      <td>40</td>\n",
       "      <td>35</td>\n",
       "      <td>168</td>\n",
       "      <td>43.1</td>\n",
       "      <td>2.288</td>\n",
       "      <td>33</td>\n",
       "      <td>1</td>\n",
       "      <td>830916</td>\n",
       "    </tr>\n",
       "  </tbody>\n",
       "</table>\n",
       "</div>"
      ],
      "text/plain": [
       "   Unnamed: 0  Pregnancies  Glucose  BloodPressure  SkinThickness  Insulin  \\\n",
       "0           0            6      148             72             35        0   \n",
       "1           1            1       85             66             29        0   \n",
       "2           2            8      183             64              0        0   \n",
       "3           3            1       89             66             23       94   \n",
       "4           4            0      137             40             35      168   \n",
       "\n",
       "    BMI  DiabetesPedigreeFunction  Age  Outcome      ID  \n",
       "0  33.6                     0.627   50        1  254163  \n",
       "1  26.6                     0.351   31        0  717276  \n",
       "2  23.3                     0.672   32        1  578356  \n",
       "3  28.1                     0.167   21        0  882563  \n",
       "4  43.1                     2.288   33        1  830916  "
      ]
     },
     "execution_count": 5,
     "metadata": {},
     "output_type": "execute_result"
    }
   ],
   "source": [
    "data1.head()"
   ]
  },
  {
   "cell_type": "code",
   "execution_count": 6,
   "id": "f9657252-948b-401d-85b3-197f8bc5cf17",
   "metadata": {},
   "outputs": [],
   "source": [
    "## Keep columns for the first question/analysis\n",
    "###Id, Pregnancies, BloodPressure, Outcome "
   ]
  },
  {
   "cell_type": "code",
   "execution_count": 7,
   "id": "b652e39c-9ca4-4e02-bc21-57daa01c406e",
   "metadata": {},
   "outputs": [],
   "source": [
    "question1 = data1[['ID', 'Pregnancies', 'BloodPressure', 'Outcome']]"
   ]
  },
  {
   "cell_type": "code",
   "execution_count": 8,
   "id": "a061a5de-b4f7-4a3c-a23c-9f83210004f7",
   "metadata": {},
   "outputs": [
    {
     "data": {
      "text/html": [
       "<div>\n",
       "<style scoped>\n",
       "    .dataframe tbody tr th:only-of-type {\n",
       "        vertical-align: middle;\n",
       "    }\n",
       "\n",
       "    .dataframe tbody tr th {\n",
       "        vertical-align: top;\n",
       "    }\n",
       "\n",
       "    .dataframe thead th {\n",
       "        text-align: right;\n",
       "    }\n",
       "</style>\n",
       "<table border=\"1\" class=\"dataframe\">\n",
       "  <thead>\n",
       "    <tr style=\"text-align: right;\">\n",
       "      <th></th>\n",
       "      <th>ID</th>\n",
       "      <th>Pregnancies</th>\n",
       "      <th>BloodPressure</th>\n",
       "      <th>Outcome</th>\n",
       "    </tr>\n",
       "  </thead>\n",
       "  <tbody>\n",
       "    <tr>\n",
       "      <th>0</th>\n",
       "      <td>254163</td>\n",
       "      <td>6</td>\n",
       "      <td>72</td>\n",
       "      <td>1</td>\n",
       "    </tr>\n",
       "    <tr>\n",
       "      <th>1</th>\n",
       "      <td>717276</td>\n",
       "      <td>1</td>\n",
       "      <td>66</td>\n",
       "      <td>0</td>\n",
       "    </tr>\n",
       "    <tr>\n",
       "      <th>2</th>\n",
       "      <td>578356</td>\n",
       "      <td>8</td>\n",
       "      <td>64</td>\n",
       "      <td>1</td>\n",
       "    </tr>\n",
       "    <tr>\n",
       "      <th>3</th>\n",
       "      <td>882563</td>\n",
       "      <td>1</td>\n",
       "      <td>66</td>\n",
       "      <td>0</td>\n",
       "    </tr>\n",
       "    <tr>\n",
       "      <th>4</th>\n",
       "      <td>830916</td>\n",
       "      <td>0</td>\n",
       "      <td>40</td>\n",
       "      <td>1</td>\n",
       "    </tr>\n",
       "  </tbody>\n",
       "</table>\n",
       "</div>"
      ],
      "text/plain": [
       "       ID  Pregnancies  BloodPressure  Outcome\n",
       "0  254163            6             72        1\n",
       "1  717276            1             66        0\n",
       "2  578356            8             64        1\n",
       "3  882563            1             66        0\n",
       "4  830916            0             40        1"
      ]
     },
     "execution_count": 8,
     "metadata": {},
     "output_type": "execute_result"
    }
   ],
   "source": [
    "question1.head()"
   ]
  },
  {
   "cell_type": "code",
   "execution_count": 9,
   "id": "daa98dbd-052a-40a4-8323-83096687deef",
   "metadata": {},
   "outputs": [],
   "source": [
    "##Correlation graphs and descriptive analytics "
   ]
  },
  {
   "cell_type": "code",
   "execution_count": 10,
   "id": "92ee1c65-56ce-43e8-8a26-5d6d1159c8b1",
   "metadata": {},
   "outputs": [],
   "source": [
    "##Independent variable- number of preganancies needs to be divded into levels. "
   ]
  },
  {
   "cell_type": "code",
   "execution_count": 11,
   "id": "d3644c55-c7b1-482a-823e-57dbc55d63ef",
   "metadata": {},
   "outputs": [
    {
     "data": {
      "text/plain": [
       "0"
      ]
     },
     "execution_count": 11,
     "metadata": {},
     "output_type": "execute_result"
    }
   ],
   "source": [
    "question1.Pregnancies.min()"
   ]
  },
  {
   "cell_type": "code",
   "execution_count": 12,
   "id": "2fab083c-825d-4544-a72e-d8a84d8694cf",
   "metadata": {},
   "outputs": [
    {
     "data": {
      "text/plain": [
       "17"
      ]
     },
     "execution_count": 12,
     "metadata": {},
     "output_type": "execute_result"
    }
   ],
   "source": [
    "question1.Pregnancies.max()"
   ]
  },
  {
   "cell_type": "code",
   "execution_count": 13,
   "id": "f7c933b1-e2a3-4a0c-8642-396769ae9113",
   "metadata": {},
   "outputs": [],
   "source": [
    "#The highest number of pregnancies observed is 17, and lowest being 0 "
   ]
  },
  {
   "cell_type": "code",
   "execution_count": 14,
   "id": "c7ad6ff4-33af-4e00-a0cc-236a9b35a1fd",
   "metadata": {},
   "outputs": [],
   "source": [
    "#Seperate the numbers into bins 0-3,4-8,9-12,13-17"
   ]
  },
  {
   "cell_type": "code",
   "execution_count": 15,
   "id": "f23c29d6-11b9-4924-8df1-54e8c4496afb",
   "metadata": {},
   "outputs": [],
   "source": [
    "from matplotlib import pyplot as plt"
   ]
  },
  {
   "cell_type": "code",
   "execution_count": 16,
   "id": "2341ce18-b462-4847-a33b-ab74700250c0",
   "metadata": {},
   "outputs": [],
   "source": [
    "import numpy as np"
   ]
  },
  {
   "cell_type": "code",
   "execution_count": 17,
   "id": "7cccadc1-c770-4d64-89ae-c3c11e0d35a8",
   "metadata": {},
   "outputs": [],
   "source": [
    "from matplotlib import colors"
   ]
  },
  {
   "cell_type": "code",
   "execution_count": 18,
   "id": "d1615b87-4787-4703-8bd6-9d83c18a62c1",
   "metadata": {},
   "outputs": [],
   "source": [
    "from matplotlib.ticker import PercentFormatter"
   ]
  },
  {
   "cell_type": "code",
   "execution_count": 19,
   "id": "aca3898d-ac29-4084-bb32-5b51efe73c52",
   "metadata": {},
   "outputs": [],
   "source": [
    "#for # of pregnancies vs bloodpressure, an histogram is best choice"
   ]
  },
  {
   "cell_type": "code",
   "execution_count": 20,
   "id": "f306af64-2aa4-4e23-83be-fe344a977192",
   "metadata": {},
   "outputs": [],
   "source": [
    "import seaborn as sns"
   ]
  },
  {
   "cell_type": "code",
   "execution_count": 21,
   "id": "069ea09f-5109-46ea-9ae3-e599843ba88f",
   "metadata": {},
   "outputs": [
    {
     "data": {
      "image/png": "[encoded data removed]",
      "text/plain": [
       "<Figure size 432x288 with 1 Axes>"
      ]
     },
     "metadata": {
      "needs_background": "light"
     },
     "output_type": "display_data"
    }
   ],
   "source": [
    "plt.hist(question1['Pregnancies'], bins = 6, \n",
    "         color = 'green')\n",
    "plt.show()"
   ]
  },
  {
   "cell_type": "code",
   "execution_count": 22,
   "id": "497922c6-87d7-4701-b701-ff4d10d52e9c",
   "metadata": {},
   "outputs": [
    {
     "data": {
      "text/plain": [
       "3.0"
      ]
     },
     "execution_count": 22,
     "metadata": {},
     "output_type": "execute_result"
    }
   ],
   "source": [
    "question1.Pregnancies.median()"
   ]
  },
  {
   "cell_type": "code",
   "execution_count": 23,
   "id": "4bf6c042-a206-4ce9-85f8-6eb38398ae27",
   "metadata": {},
   "outputs": [],
   "source": [
    "#This shows that average number of women have approximately 3 pregnancies and most of the women have 5 or less"
   ]
  },
  {
   "cell_type": "code",
   "execution_count": 24,
   "id": "6ebbc9ab-1093-421c-8e87-f20bb8a2ef81",
   "metadata": {},
   "outputs": [
    {
     "data": {
      "text/plain": [
       "0"
      ]
     },
     "execution_count": 24,
     "metadata": {},
     "output_type": "execute_result"
    }
   ],
   "source": [
    "question1.BloodPressure.min()"
   ]
  },
  {
   "cell_type": "code",
   "execution_count": 25,
   "id": "b3fa2931-e411-4c19-8f57-82e97789c4d3",
   "metadata": {},
   "outputs": [
    {
     "data": {
      "text/plain": [
       "122"
      ]
     },
     "execution_count": 25,
     "metadata": {},
     "output_type": "execute_result"
    }
   ],
   "source": [
    "question1.BloodPressure.max()"
   ]
  },
  {
   "cell_type": "code",
   "execution_count": 26,
   "id": "3fbb29c7-75bd-4c25-a576-705a062c8b8f",
   "metadata": {},
   "outputs": [],
   "source": [
    "##remove the rows that have bloodpressure 0, as this is not a valid entry for bp"
   ]
  },
  {
   "cell_type": "code",
   "execution_count": 27,
   "id": "71cd9287-a22c-4938-b99a-a1e247c3ec19",
   "metadata": {},
   "outputs": [],
   "source": [
    "question12 = question1[question1.BloodPressure != 0]"
   ]
  },
  {
   "cell_type": "code",
   "execution_count": 28,
   "id": "a3652474-b60f-4a79-9751-a3a6a0318ac0",
   "metadata": {},
   "outputs": [
    {
     "data": {
      "text/html": [
       "<div>\n",
       "<style scoped>\n",
       "    .dataframe tbody tr th:only-of-type {\n",
       "        vertical-align: middle;\n",
       "    }\n",
       "\n",
       "    .dataframe tbody tr th {\n",
       "        vertical-align: top;\n",
       "    }\n",
       "\n",
       "    .dataframe thead th {\n",
       "        text-align: right;\n",
       "    }\n",
       "</style>\n",
       "<table border=\"1\" class=\"dataframe\">\n",
       "  <thead>\n",
       "    <tr style=\"text-align: right;\">\n",
       "      <th></th>\n",
       "      <th>ID</th>\n",
       "      <th>Pregnancies</th>\n",
       "      <th>BloodPressure</th>\n",
       "      <th>Outcome</th>\n",
       "    </tr>\n",
       "  </thead>\n",
       "  <tbody>\n",
       "    <tr>\n",
       "      <th>0</th>\n",
       "      <td>254163</td>\n",
       "      <td>6</td>\n",
       "      <td>72</td>\n",
       "      <td>1</td>\n",
       "    </tr>\n",
       "    <tr>\n",
       "      <th>1</th>\n",
       "      <td>717276</td>\n",
       "      <td>1</td>\n",
       "      <td>66</td>\n",
       "      <td>0</td>\n",
       "    </tr>\n",
       "    <tr>\n",
       "      <th>2</th>\n",
       "      <td>578356</td>\n",
       "      <td>8</td>\n",
       "      <td>64</td>\n",
       "      <td>1</td>\n",
       "    </tr>\n",
       "    <tr>\n",
       "      <th>3</th>\n",
       "      <td>882563</td>\n",
       "      <td>1</td>\n",
       "      <td>66</td>\n",
       "      <td>0</td>\n",
       "    </tr>\n",
       "    <tr>\n",
       "      <th>4</th>\n",
       "      <td>830916</td>\n",
       "      <td>0</td>\n",
       "      <td>40</td>\n",
       "      <td>1</td>\n",
       "    </tr>\n",
       "  </tbody>\n",
       "</table>\n",
       "</div>"
      ],
      "text/plain": [
       "       ID  Pregnancies  BloodPressure  Outcome\n",
       "0  254163            6             72        1\n",
       "1  717276            1             66        0\n",
       "2  578356            8             64        1\n",
       "3  882563            1             66        0\n",
       "4  830916            0             40        1"
      ]
     },
     "execution_count": 28,
     "metadata": {},
     "output_type": "execute_result"
    }
   ],
   "source": [
    "question12.head()"
   ]
  },
  {
   "cell_type": "code",
   "execution_count": 29,
   "id": "64fa5e84-15ea-4b8e-b3e4-37f5fb9c1614",
   "metadata": {},
   "outputs": [
    {
     "data": {
      "text/plain": [
       "24"
      ]
     },
     "execution_count": 29,
     "metadata": {},
     "output_type": "execute_result"
    }
   ],
   "source": [
    "question12.BloodPressure.min()"
   ]
  },
  {
   "cell_type": "code",
   "execution_count": 30,
   "id": "a7b3c2ec-136a-4ae9-9dbd-b829e0e92d74",
   "metadata": {},
   "outputs": [],
   "source": [
    "#The zeros have been removed as you can see the minimum value is 24"
   ]
  },
  {
   "cell_type": "code",
   "execution_count": 31,
   "id": "05bcd495-6336-4542-be06-8cb9828776c5",
   "metadata": {},
   "outputs": [
    {
     "data": {
      "text/plain": [
       "<AxesSubplot: xlabel='Pregnancies', ylabel='BloodPressure'>"
      ]
     },
     "execution_count": 31,
     "metadata": {},
     "output_type": "execute_result"
    },
    {
     "data": {
      "image/png": "[encoded data removed]",
      "text/plain": [
       "<Figure size 720x720 with 1 Axes>"
      ]
     },
     "metadata": {
      "needs_background": "light"
     },
     "output_type": "display_data"
    }
   ],
   "source": [
    "question12.plot(x=\"Pregnancies\", y= \"BloodPressure\", kind=\"scatter\", figsize=(10,10))                                      "
   ]
  },
  {
   "cell_type": "code",
   "execution_count": 32,
   "id": "80e70cb4-4ddf-4c2b-a330-a2aa8c07a018",
   "metadata": {},
   "outputs": [],
   "source": [
    "##There seems like no trend between the number of pregnancies and Bloopressure "
   ]
  },
  {
   "cell_type": "code",
   "execution_count": 33,
   "id": "526c1a48-09c7-428c-a843-526f3e944b8c",
   "metadata": {},
   "outputs": [],
   "source": [
    "##Just to see the trend was looking at the scatterplot for age and glucose, to see any visual correlation "
   ]
  },
  {
   "cell_type": "code",
   "execution_count": 34,
   "id": "c09858f7-36aa-4e44-9ab9-ce7cc6f0a831",
   "metadata": {},
   "outputs": [
    {
     "data": {
      "text/plain": [
       "<AxesSubplot: xlabel='Age', ylabel='Glucose'>"
      ]
     },
     "execution_count": 34,
     "metadata": {},
     "output_type": "execute_result"
    },
    {
     "data": {
      "image/png": "[encoded data removed]",
      "text/plain": [
       "<Figure size 432x288 with 1 Axes>"
      ]
     },
     "metadata": {
      "needs_background": "light"
     },
     "output_type": "display_data"
    }
   ],
   "source": [
    "data1.plot(x=\"Age\", y= \"Glucose\", kind=\"scatter\")      "
   ]
  },
  {
   "cell_type": "code",
   "execution_count": 35,
   "id": "7d76de1e-b307-4888-93ed-49f9b1520f08",
   "metadata": {},
   "outputs": [
    {
     "data": {
      "text/plain": [
       "<AxesSubplot: xlabel='SkinThickness', ylabel='Glucose'>"
      ]
     },
     "execution_count": 35,
     "metadata": {},
     "output_type": "execute_result"
    },
    {
     "data": {
      "image/png": "[encoded data removed]",
      "text/plain": [
       "<Figure size 432x288 with 1 Axes>"
      ]
     },
     "metadata": {
      "needs_background": "light"
     },
     "output_type": "display_data"
    }
   ],
   "source": [
    "data1.plot(x=\"SkinThickness\", y= \"Glucose\", kind=\"scatter\")      "
   ]
  },
  {
   "cell_type": "code",
   "execution_count": 36,
   "id": "2b1c15f0-562c-467a-92bc-fd29f6dd63e5",
   "metadata": {},
   "outputs": [],
   "source": [
    "###Show too many zeros so trying to remove it "
   ]
  },
  {
   "cell_type": "code",
   "execution_count": 37,
   "id": "e2461a01-3fd2-4a02-a4ab-41492e327a02",
   "metadata": {},
   "outputs": [],
   "source": [
    "data2 = data1[data1.SkinThickness != 0]"
   ]
  },
  {
   "cell_type": "code",
   "execution_count": 38,
   "id": "d45a56e5-3211-4205-8bc0-5fb6144bbbc0",
   "metadata": {},
   "outputs": [
    {
     "data": {
      "text/html": [
       "<div>\n",
       "<style scoped>\n",
       "    .dataframe tbody tr th:only-of-type {\n",
       "        vertical-align: middle;\n",
       "    }\n",
       "\n",
       "    .dataframe tbody tr th {\n",
       "        vertical-align: top;\n",
       "    }\n",
       "\n",
       "    .dataframe thead th {\n",
       "        text-align: right;\n",
       "    }\n",
       "</style>\n",
       "<table border=\"1\" class=\"dataframe\">\n",
       "  <thead>\n",
       "    <tr style=\"text-align: right;\">\n",
       "      <th></th>\n",
       "      <th>Unnamed: 0</th>\n",
       "      <th>Pregnancies</th>\n",
       "      <th>Glucose</th>\n",
       "      <th>BloodPressure</th>\n",
       "      <th>SkinThickness</th>\n",
       "      <th>Insulin</th>\n",
       "      <th>BMI</th>\n",
       "      <th>DiabetesPedigreeFunction</th>\n",
       "      <th>Age</th>\n",
       "      <th>Outcome</th>\n",
       "      <th>ID</th>\n",
       "    </tr>\n",
       "  </thead>\n",
       "  <tbody>\n",
       "    <tr>\n",
       "      <th>0</th>\n",
       "      <td>0</td>\n",
       "      <td>6</td>\n",
       "      <td>148</td>\n",
       "      <td>72</td>\n",
       "      <td>35</td>\n",
       "      <td>0</td>\n",
       "      <td>33.6</td>\n",
       "      <td>0.627</td>\n",
       "      <td>50</td>\n",
       "      <td>1</td>\n",
       "      <td>254163</td>\n",
       "    </tr>\n",
       "    <tr>\n",
       "      <th>1</th>\n",
       "      <td>1</td>\n",
       "      <td>1</td>\n",
       "      <td>85</td>\n",
       "      <td>66</td>\n",
       "      <td>29</td>\n",
       "      <td>0</td>\n",
       "      <td>26.6</td>\n",
       "      <td>0.351</td>\n",
       "      <td>31</td>\n",
       "      <td>0</td>\n",
       "      <td>717276</td>\n",
       "    </tr>\n",
       "    <tr>\n",
       "      <th>3</th>\n",
       "      <td>3</td>\n",
       "      <td>1</td>\n",
       "      <td>89</td>\n",
       "      <td>66</td>\n",
       "      <td>23</td>\n",
       "      <td>94</td>\n",
       "      <td>28.1</td>\n",
       "      <td>0.167</td>\n",
       "      <td>21</td>\n",
       "      <td>0</td>\n",
       "      <td>882563</td>\n",
       "    </tr>\n",
       "    <tr>\n",
       "      <th>4</th>\n",
       "      <td>4</td>\n",
       "      <td>0</td>\n",
       "      <td>137</td>\n",
       "      <td>40</td>\n",
       "      <td>35</td>\n",
       "      <td>168</td>\n",
       "      <td>43.1</td>\n",
       "      <td>2.288</td>\n",
       "      <td>33</td>\n",
       "      <td>1</td>\n",
       "      <td>830916</td>\n",
       "    </tr>\n",
       "    <tr>\n",
       "      <th>6</th>\n",
       "      <td>6</td>\n",
       "      <td>3</td>\n",
       "      <td>78</td>\n",
       "      <td>50</td>\n",
       "      <td>32</td>\n",
       "      <td>88</td>\n",
       "      <td>31.0</td>\n",
       "      <td>0.248</td>\n",
       "      <td>26</td>\n",
       "      <td>1</td>\n",
       "      <td>9932</td>\n",
       "    </tr>\n",
       "  </tbody>\n",
       "</table>\n",
       "</div>"
      ],
      "text/plain": [
       "   Unnamed: 0  Pregnancies  Glucose  BloodPressure  SkinThickness  Insulin  \\\n",
       "0           0            6      148             72             35        0   \n",
       "1           1            1       85             66             29        0   \n",
       "3           3            1       89             66             23       94   \n",
       "4           4            0      137             40             35      168   \n",
       "6           6            3       78             50             32       88   \n",
       "\n",
       "    BMI  DiabetesPedigreeFunction  Age  Outcome      ID  \n",
       "0  33.6                     0.627   50        1  254163  \n",
       "1  26.6                     0.351   31        0  717276  \n",
       "3  28.1                     0.167   21        0  882563  \n",
       "4  43.1                     2.288   33        1  830916  \n",
       "6  31.0                     0.248   26        1    9932  "
      ]
     },
     "execution_count": 38,
     "metadata": {},
     "output_type": "execute_result"
    }
   ],
   "source": [
    "data2.head()"
   ]
  },
  {
   "cell_type": "code",
   "execution_count": 39,
   "id": "a1982340-aed3-4e10-88d4-f540caaedc0e",
   "metadata": {},
   "outputs": [
    {
     "data": {
      "text/plain": [
       "7"
      ]
     },
     "execution_count": 39,
     "metadata": {},
     "output_type": "execute_result"
    }
   ],
   "source": [
    "data2.SkinThickness.min()"
   ]
  },
  {
   "cell_type": "code",
   "execution_count": 40,
   "id": "7e6ec7ec-3c27-477d-8ce0-28ed1675a97c",
   "metadata": {},
   "outputs": [
    {
     "data": {
      "text/plain": [
       "<AxesSubplot: xlabel='SkinThickness', ylabel='Glucose'>"
      ]
     },
     "execution_count": 40,
     "metadata": {},
     "output_type": "execute_result"
    },
    {
     "data": {
      "image/png": "[encoded data removed]",
      "text/plain": [
       "<Figure size 432x288 with 1 Axes>"
      ]
     },
     "metadata": {
      "needs_background": "light"
     },
     "output_type": "display_data"
    }
   ],
   "source": [
    "data2.plot(x=\"SkinThickness\", y= \"Glucose\", kind=\"scatter\")      "
   ]
  },
  {
   "cell_type": "code",
   "execution_count": 41,
   "id": "0d744eb9-3935-4b49-a408-991e1a87bb90",
   "metadata": {},
   "outputs": [],
   "source": [
    "data3 = data2[data2.Glucose !=0]"
   ]
  },
  {
   "cell_type": "code",
   "execution_count": 42,
   "id": "4bd921a0-b8e5-490a-8fb8-465209947f19",
   "metadata": {},
   "outputs": [
    {
     "data": {
      "text/plain": [
       "<AxesSubplot: xlabel='SkinThickness', ylabel='Glucose'>"
      ]
     },
     "execution_count": 42,
     "metadata": {},
     "output_type": "execute_result"
    },
    {
     "data": {
      "image/png": "[encoded data removed]",
      "text/plain": [
       "<Figure size 432x288 with 1 Axes>"
      ]
     },
     "metadata": {
      "needs_background": "light"
     },
     "output_type": "display_data"
    }
   ],
   "source": [
    "data3.plot(x=\"SkinThickness\", y= \"Glucose\", kind=\"scatter\")   "
   ]
  },
  {
   "cell_type": "code",
   "execution_count": 43,
   "id": "3760fc80-a76a-4fc2-9bd6-6e4a6f2f2b10",
   "metadata": {},
   "outputs": [],
   "source": [
    "import seaborn as sns"
   ]
  },
  {
   "cell_type": "code",
   "execution_count": 44,
   "id": "11249986-77e9-4f97-b1a1-7b03995ad62a",
   "metadata": {},
   "outputs": [
    {
     "data": {
      "text/plain": [
       "Text(0.5, 1.0, 'Histogram and KDE of BloodPressure')"
      ]
     },
     "execution_count": 44,
     "metadata": {},
     "output_type": "execute_result"
    },
    {
     "data": {
      "image/png": "[encoded data removed]",
      "text/plain": [
       "<Figure size 432x288 with 1 Axes>"
      ]
     },
     "metadata": {
      "needs_background": "light"
     },
     "output_type": "display_data"
    }
   ],
   "source": [
    "fig, ax = plt.subplots()\n",
    "sns.histplot(data=question12, x=\"BloodPressure\", kde=True)\n",
    "ax.set_title(\"Histogram and KDE of BloodPressure\")\n"
   ]
  },
  {
   "cell_type": "code",
   "execution_count": 45,
   "id": "03842ec6-4d74-46fa-ae63-831f2c38ef0c",
   "metadata": {},
   "outputs": [],
   "source": [
    "##Pretty normal curve for blood pressure \n"
   ]
  },
  {
   "cell_type": "code",
   "execution_count": 46,
   "id": "328a217b-5d0a-4176-aac5-52279fefa3a5",
   "metadata": {},
   "outputs": [
    {
     "data": {
      "text/plain": [
       "Text(0.5, 1.0, 'Histogram and KDE of Outcome')"
      ]
     },
     "execution_count": 46,
     "metadata": {},
     "output_type": "execute_result"
    },
    {
     "data": {
      "image/png": "[encoded data removed]",
      "text/plain": [
       "<Figure size 432x288 with 1 Axes>"
      ]
     },
     "metadata": {
      "needs_background": "light"
     },
     "output_type": "display_data"
    }
   ],
   "source": [
    "fig, ax = plt.subplots()\n",
    "sns.histplot(data=data3, x=\"Glucose\", kde=True)\n",
    "ax.set_title(\"Histogram and KDE of Outcome\")\n"
   ]
  },
  {
   "cell_type": "code",
   "execution_count": 47,
   "id": "af60d7ad-ec87-49d0-97f2-db93cbbd253b",
   "metadata": {},
   "outputs": [],
   "source": [
    "#glucose levels are a little visibly skewed to the left so there is a tail on the right "
   ]
  },
  {
   "cell_type": "raw",
   "id": "0c9e4230-c52f-42a1-9cef-4d7a84c322a9",
   "metadata": {},
   "source": [
    "pip install pandas-profiling"
   ]
  },
  {
   "cell_type": "code",
   "execution_count": 48,
   "id": "7dcd5303-85ac-42b9-b8df-7aeb9854d366",
   "metadata": {},
   "outputs": [
    {
     "name": "stderr",
     "output_type": "stream",
     "text": [
      "/opt/homebrew/Cellar/jupyterlab/3.4.3/libexec/lib/python3.10/site-packages/tqdm/auto.py:22: TqdmWarning: IProgress not found. Please update jupyter and ipywidgets. See https://ipywidgets.readthedocs.io/en/stable/user_install.html\n",
      "  from .autonotebook import tqdm as notebook_tqdm\n"
     ]
    }
   ],
   "source": [
    "import numpy as np\n",
    "import pandas as pd\n",
    "from ydata_profiling import ProfileReport"
   ]
  },
  {
   "cell_type": "code",
   "execution_count": 49,
   "id": "954b8e0d-6700-4b0a-ab2a-c931939dd0cc",
   "metadata": {},
   "outputs": [
    {
     "data": {
      "text/html": [
       "<div>\n",
       "<style scoped>\n",
       "    .dataframe tbody tr th:only-of-type {\n",
       "        vertical-align: middle;\n",
       "    }\n",
       "\n",
       "    .dataframe tbody tr th {\n",
       "        vertical-align: top;\n",
       "    }\n",
       "\n",
       "    .dataframe thead th {\n",
       "        text-align: right;\n",
       "    }\n",
       "</style>\n",
       "<table border=\"1\" class=\"dataframe\">\n",
       "  <thead>\n",
       "    <tr style=\"text-align: right;\">\n",
       "      <th></th>\n",
       "      <th>ID</th>\n",
       "      <th>Pregnancies</th>\n",
       "      <th>BloodPressure</th>\n",
       "      <th>Outcome</th>\n",
       "    </tr>\n",
       "  </thead>\n",
       "  <tbody>\n",
       "    <tr>\n",
       "      <th>0</th>\n",
       "      <td>254163</td>\n",
       "      <td>6</td>\n",
       "      <td>72</td>\n",
       "      <td>1</td>\n",
       "    </tr>\n",
       "    <tr>\n",
       "      <th>1</th>\n",
       "      <td>717276</td>\n",
       "      <td>1</td>\n",
       "      <td>66</td>\n",
       "      <td>0</td>\n",
       "    </tr>\n",
       "    <tr>\n",
       "      <th>2</th>\n",
       "      <td>578356</td>\n",
       "      <td>8</td>\n",
       "      <td>64</td>\n",
       "      <td>1</td>\n",
       "    </tr>\n",
       "    <tr>\n",
       "      <th>3</th>\n",
       "      <td>882563</td>\n",
       "      <td>1</td>\n",
       "      <td>66</td>\n",
       "      <td>0</td>\n",
       "    </tr>\n",
       "    <tr>\n",
       "      <th>4</th>\n",
       "      <td>830916</td>\n",
       "      <td>0</td>\n",
       "      <td>40</td>\n",
       "      <td>1</td>\n",
       "    </tr>\n",
       "    <tr>\n",
       "      <th>...</th>\n",
       "      <td>...</td>\n",
       "      <td>...</td>\n",
       "      <td>...</td>\n",
       "      <td>...</td>\n",
       "    </tr>\n",
       "    <tr>\n",
       "      <th>763</th>\n",
       "      <td>34122</td>\n",
       "      <td>10</td>\n",
       "      <td>76</td>\n",
       "      <td>0</td>\n",
       "    </tr>\n",
       "    <tr>\n",
       "      <th>764</th>\n",
       "      <td>910613</td>\n",
       "      <td>2</td>\n",
       "      <td>70</td>\n",
       "      <td>0</td>\n",
       "    </tr>\n",
       "    <tr>\n",
       "      <th>765</th>\n",
       "      <td>168350</td>\n",
       "      <td>5</td>\n",
       "      <td>72</td>\n",
       "      <td>0</td>\n",
       "    </tr>\n",
       "    <tr>\n",
       "      <th>766</th>\n",
       "      <td>122617</td>\n",
       "      <td>1</td>\n",
       "      <td>60</td>\n",
       "      <td>1</td>\n",
       "    </tr>\n",
       "    <tr>\n",
       "      <th>767</th>\n",
       "      <td>847022</td>\n",
       "      <td>1</td>\n",
       "      <td>70</td>\n",
       "      <td>0</td>\n",
       "    </tr>\n",
       "  </tbody>\n",
       "</table>\n",
       "<p>733 rows × 4 columns</p>\n",
       "</div>"
      ],
      "text/plain": [
       "         ID  Pregnancies  BloodPressure  Outcome\n",
       "0    254163            6             72        1\n",
       "1    717276            1             66        0\n",
       "2    578356            8             64        1\n",
       "3    882563            1             66        0\n",
       "4    830916            0             40        1\n",
       "..      ...          ...            ...      ...\n",
       "763   34122           10             76        0\n",
       "764  910613            2             70        0\n",
       "765  168350            5             72        0\n",
       "766  122617            1             60        1\n",
       "767  847022            1             70        0\n",
       "\n",
       "[733 rows x 4 columns]"
      ]
     },
     "execution_count": 49,
     "metadata": {},
     "output_type": "execute_result"
    }
   ],
   "source": [
    "question12"
   ]
  },
  {
   "cell_type": "code",
   "execution_count": 50,
   "id": "ba13f48e-0178-4275-a350-704f6e764633",
   "metadata": {},
   "outputs": [],
   "source": [
    "#The code is for running the analysis \n",
    "profile = ProfileReport(question12, title=\"Pandas Profiling Report\")"
   ]
  },
  {
   "cell_type": "code",
   "execution_count": 51,
   "id": "48f3cc3f-66a1-4cec-81d5-f64cb7d83fb7",
   "metadata": {},
   "outputs": [
    {
     "name": "stderr",
     "output_type": "stream",
     "text": [
      "/opt/homebrew/Cellar/jupyterlab/3.4.3/libexec/lib/python3.10/site-packages/ydata_profiling/utils/dataframe.py:137: SettingWithCopyWarning: \n",
      "A value is trying to be set on a copy of a slice from a DataFrame\n",
      "\n",
      "See the caveats in the documentation: https://pandas.pydata.org/pandas-docs/stable/user_guide/indexing.html#returning-a-view-versus-a-copy\n",
      "  df.rename(columns={\"index\": \"df_index\"}, inplace=True)\n",
      "Summarize dataset: 100%|█████████████| 22/22 [00:01<00:00, 16.71it/s, Completed]\n",
      "Generate report structure: 100%|██████████████████| 1/1 [00:00<00:00,  2.29it/s]\n",
      "Render HTML: 100%|████████████████████████████████| 1/1 [00:00<00:00,  3.96it/s]\n",
      "Export report to file: 100%|█████████████████████| 1/1 [00:00<00:00, 432.94it/s]\n"
     ]
    }
   ],
   "source": [
    "#The code is to print and export the file to html folder \n",
    "profile.to_file(\"my_pandas_report.html\")"
   ]
  },
  {
   "cell_type": "code",
   "execution_count": 52,
   "id": "73b9a73f-5e5b-443d-a145-0e194e329ab4",
   "metadata": {},
   "outputs": [],
   "source": [
    "question15 = data1[['ID', 'Age', 'DiabetesPedigreeFunction', 'Outcome']]"
   ]
  },
  {
   "cell_type": "code",
   "execution_count": 53,
   "id": "a1e7698c-d6f5-4d00-bfcb-6f3df9c569cd",
   "metadata": {},
   "outputs": [
    {
     "data": {
      "text/html": [
       "<div>\n",
       "<style scoped>\n",
       "    .dataframe tbody tr th:only-of-type {\n",
       "        vertical-align: middle;\n",
       "    }\n",
       "\n",
       "    .dataframe tbody tr th {\n",
       "        vertical-align: top;\n",
       "    }\n",
       "\n",
       "    .dataframe thead th {\n",
       "        text-align: right;\n",
       "    }\n",
       "</style>\n",
       "<table border=\"1\" class=\"dataframe\">\n",
       "  <thead>\n",
       "    <tr style=\"text-align: right;\">\n",
       "      <th></th>\n",
       "      <th>ID</th>\n",
       "      <th>Age</th>\n",
       "      <th>DiabetesPedigreeFunction</th>\n",
       "      <th>Outcome</th>\n",
       "    </tr>\n",
       "  </thead>\n",
       "  <tbody>\n",
       "    <tr>\n",
       "      <th>0</th>\n",
       "      <td>254163</td>\n",
       "      <td>50</td>\n",
       "      <td>0.627</td>\n",
       "      <td>1</td>\n",
       "    </tr>\n",
       "    <tr>\n",
       "      <th>1</th>\n",
       "      <td>717276</td>\n",
       "      <td>31</td>\n",
       "      <td>0.351</td>\n",
       "      <td>0</td>\n",
       "    </tr>\n",
       "    <tr>\n",
       "      <th>2</th>\n",
       "      <td>578356</td>\n",
       "      <td>32</td>\n",
       "      <td>0.672</td>\n",
       "      <td>1</td>\n",
       "    </tr>\n",
       "    <tr>\n",
       "      <th>3</th>\n",
       "      <td>882563</td>\n",
       "      <td>21</td>\n",
       "      <td>0.167</td>\n",
       "      <td>0</td>\n",
       "    </tr>\n",
       "    <tr>\n",
       "      <th>4</th>\n",
       "      <td>830916</td>\n",
       "      <td>33</td>\n",
       "      <td>2.288</td>\n",
       "      <td>1</td>\n",
       "    </tr>\n",
       "  </tbody>\n",
       "</table>\n",
       "</div>"
      ],
      "text/plain": [
       "       ID  Age  DiabetesPedigreeFunction  Outcome\n",
       "0  254163   50                     0.627        1\n",
       "1  717276   31                     0.351        0\n",
       "2  578356   32                     0.672        1\n",
       "3  882563   21                     0.167        0\n",
       "4  830916   33                     2.288        1"
      ]
     },
     "execution_count": 53,
     "metadata": {},
     "output_type": "execute_result"
    }
   ],
   "source": [
    "question15.head()"
   ]
  },
  {
   "cell_type": "code",
   "execution_count": 54,
   "id": "1d33eb8e-7eaa-4b75-a845-a9d225eadd7a",
   "metadata": {},
   "outputs": [],
   "source": [
    "#This is profiling for our second set of variable 'age,diabetespedigree, and outcome'\n",
    "profile = ProfileReport(question15, title=\"Pandas Profiling Report\")"
   ]
  },
  {
   "cell_type": "code",
   "execution_count": 55,
   "id": "3e548108-4cce-4899-87c8-dfba635b2996",
   "metadata": {},
   "outputs": [
    {
     "name": "stderr",
     "output_type": "stream",
     "text": [
      "/opt/homebrew/Cellar/jupyterlab/3.4.3/libexec/lib/python3.10/site-packages/ydata_profiling/utils/dataframe.py:137: SettingWithCopyWarning: \n",
      "A value is trying to be set on a copy of a slice from a DataFrame\n",
      "\n",
      "See the caveats in the documentation: https://pandas.pydata.org/pandas-docs/stable/user_guide/indexing.html#returning-a-view-versus-a-copy\n",
      "  df.rename(columns={\"index\": \"df_index\"}, inplace=True)\n",
      "Summarize dataset:  55%|▌| 6/11 [00:00<00:00, 273.75it/s, Calculate auto correla/opt/homebrew/Cellar/jupyterlab/3.4.3/libexec/lib/python3.10/site-packages/ydata_profiling/model/pandas/discretize_pandas.py:52: FutureWarning: In a future version, `df.iloc[:, i] = newvals` will attempt to set the values inplace instead of always setting a new array. To retain the old behavior, use either `df[df.columns[i]] = newvals` or, if columns are non-unique, `df.isetitem(i, newvals)`\n",
      "  discretized_df.loc[:, column] = self._discretize_column(\n",
      "Summarize dataset: 100%|█████████████| 22/22 [00:00<00:00, 36.03it/s, Completed]\n",
      "Generate report structure: 100%|██████████████████| 1/1 [00:00<00:00,  2.20it/s]\n",
      "Render HTML: 100%|████████████████████████████████| 1/1 [00:00<00:00,  4.84it/s]\n",
      "Export report to file: 100%|█████████████████████| 1/1 [00:00<00:00, 403.57it/s]\n"
     ]
    }
   ],
   "source": [
    "#The code is to print and export the file to html folder \n",
    "profile.to_file(\"Question_2.html\")"
   ]
  },
  {
   "cell_type": "code",
   "execution_count": 56,
   "id": "ae8481d0-081e-4d92-ad9f-c21ddbb85e4d",
   "metadata": {},
   "outputs": [],
   "source": [
    "##This will be profiling for all the varaibles in the dataset \n",
    "profile = ProfileReport(data1, title=\"Pandas Profiling Report\")"
   ]
  },
  {
   "cell_type": "code",
   "execution_count": 57,
   "id": "4e8a4bea-f111-45cd-b1c0-57368dbee01b",
   "metadata": {},
   "outputs": [
    {
     "name": "stderr",
     "output_type": "stream",
     "text": [
      "Summarize dataset:  72%|▋| 13/18 [00:00<00:00, 278.51it/s, Calculate auto correl/opt/homebrew/Cellar/jupyterlab/3.4.3/libexec/lib/python3.10/site-packages/ydata_profiling/model/pandas/discretize_pandas.py:52: FutureWarning: In a future version, `df.iloc[:, i] = newvals` will attempt to set the values inplace instead of always setting a new array. To retain the old behavior, use either `df[df.columns[i]] = newvals` or, if columns are non-unique, `df.isetitem(i, newvals)`\n",
      "  discretized_df.loc[:, column] = self._discretize_column(\n",
      "Summarize dataset: 100%|███████████| 120/120 [00:05<00:00, 22.51it/s, Completed]\n",
      "Generate report structure: 100%|██████████████████| 1/1 [00:01<00:00,  1.29s/it]\n",
      "Render HTML: 100%|████████████████████████████████| 1/1 [00:01<00:00,  1.64s/it]\n",
      "Export report to file: 100%|█████████████████████| 1/1 [00:00<00:00, 136.97it/s]\n"
     ]
    }
   ],
   "source": [
    "##Printing the results \n",
    "profile.to_file(\"Profile_Data.html\")"
   ]
  },
  {
   "cell_type": "code",
   "execution_count": 58,
   "id": "dc15c4b9-bb99-4b60-b7c5-6ec5edd54c1c",
   "metadata": {},
   "outputs": [
    {
     "name": "stdout",
     "output_type": "stream",
     "text": [
      "120.89453125\n"
     ]
    }
   ],
   "source": [
    "print(data1['Glucose'].mean())    \n",
    "        \n",
    "      "
   ]
  },
  {
   "cell_type": "code",
   "execution_count": 59,
   "id": "86c4aa8b-684c-428f-8b3d-9fec798e1ab5",
   "metadata": {},
   "outputs": [],
   "source": [
    "Glucose_col = data1['Glucose']\n",
    "Glucose_col.replace(to_replace = 0, value = Glucose_col.mean(), inplace=True)"
   ]
  },
  {
   "cell_type": "code",
   "execution_count": 60,
   "id": "2fbf7145-9aea-4c33-b190-f0e56fd16d33",
   "metadata": {},
   "outputs": [
    {
     "data": {
      "text/plain": [
       "44.0"
      ]
     },
     "execution_count": 60,
     "metadata": {},
     "output_type": "execute_result"
    }
   ],
   "source": [
    "data1.Glucose.min()"
   ]
  },
  {
   "cell_type": "code",
   "execution_count": null,
   "id": "6b4d04ed-3397-463e-8be6-8d8c39013151",
   "metadata": {},
   "outputs": [],
   "source": []
  },
  {
   "cell_type": "code",
   "execution_count": 61,
   "id": "5423dbce-2ebc-424e-89ea-b2d29894c8dd",
   "metadata": {},
   "outputs": [
    {
     "data": {
      "text/html": [
       "<div>\n",
       "<style scoped>\n",
       "    .dataframe tbody tr th:only-of-type {\n",
       "        vertical-align: middle;\n",
       "    }\n",
       "\n",
       "    .dataframe tbody tr th {\n",
       "        vertical-align: top;\n",
       "    }\n",
       "\n",
       "    .dataframe thead th {\n",
       "        text-align: right;\n",
       "    }\n",
       "</style>\n",
       "<table border=\"1\" class=\"dataframe\">\n",
       "  <thead>\n",
       "    <tr style=\"text-align: right;\">\n",
       "      <th></th>\n",
       "      <th>Unnamed: 0</th>\n",
       "      <th>Pregnancies</th>\n",
       "      <th>Glucose</th>\n",
       "      <th>BloodPressure</th>\n",
       "      <th>SkinThickness</th>\n",
       "      <th>Insulin</th>\n",
       "      <th>BMI</th>\n",
       "      <th>DiabetesPedigreeFunction</th>\n",
       "      <th>Age</th>\n",
       "      <th>Outcome</th>\n",
       "      <th>ID</th>\n",
       "    </tr>\n",
       "  </thead>\n",
       "  <tbody>\n",
       "    <tr>\n",
       "      <th>0</th>\n",
       "      <td>0</td>\n",
       "      <td>6</td>\n",
       "      <td>148.0</td>\n",
       "      <td>72</td>\n",
       "      <td>35</td>\n",
       "      <td>0</td>\n",
       "      <td>33.6</td>\n",
       "      <td>0.627</td>\n",
       "      <td>50</td>\n",
       "      <td>1</td>\n",
       "      <td>254163</td>\n",
       "    </tr>\n",
       "    <tr>\n",
       "      <th>1</th>\n",
       "      <td>1</td>\n",
       "      <td>1</td>\n",
       "      <td>85.0</td>\n",
       "      <td>66</td>\n",
       "      <td>29</td>\n",
       "      <td>0</td>\n",
       "      <td>26.6</td>\n",
       "      <td>0.351</td>\n",
       "      <td>31</td>\n",
       "      <td>0</td>\n",
       "      <td>717276</td>\n",
       "    </tr>\n",
       "    <tr>\n",
       "      <th>2</th>\n",
       "      <td>2</td>\n",
       "      <td>8</td>\n",
       "      <td>183.0</td>\n",
       "      <td>64</td>\n",
       "      <td>0</td>\n",
       "      <td>0</td>\n",
       "      <td>23.3</td>\n",
       "      <td>0.672</td>\n",
       "      <td>32</td>\n",
       "      <td>1</td>\n",
       "      <td>578356</td>\n",
       "    </tr>\n",
       "    <tr>\n",
       "      <th>3</th>\n",
       "      <td>3</td>\n",
       "      <td>1</td>\n",
       "      <td>89.0</td>\n",
       "      <td>66</td>\n",
       "      <td>23</td>\n",
       "      <td>94</td>\n",
       "      <td>28.1</td>\n",
       "      <td>0.167</td>\n",
       "      <td>21</td>\n",
       "      <td>0</td>\n",
       "      <td>882563</td>\n",
       "    </tr>\n",
       "    <tr>\n",
       "      <th>4</th>\n",
       "      <td>4</td>\n",
       "      <td>0</td>\n",
       "      <td>137.0</td>\n",
       "      <td>40</td>\n",
       "      <td>35</td>\n",
       "      <td>168</td>\n",
       "      <td>43.1</td>\n",
       "      <td>2.288</td>\n",
       "      <td>33</td>\n",
       "      <td>1</td>\n",
       "      <td>830916</td>\n",
       "    </tr>\n",
       "    <tr>\n",
       "      <th>...</th>\n",
       "      <td>...</td>\n",
       "      <td>...</td>\n",
       "      <td>...</td>\n",
       "      <td>...</td>\n",
       "      <td>...</td>\n",
       "      <td>...</td>\n",
       "      <td>...</td>\n",
       "      <td>...</td>\n",
       "      <td>...</td>\n",
       "      <td>...</td>\n",
       "      <td>...</td>\n",
       "    </tr>\n",
       "    <tr>\n",
       "      <th>763</th>\n",
       "      <td>763</td>\n",
       "      <td>10</td>\n",
       "      <td>101.0</td>\n",
       "      <td>76</td>\n",
       "      <td>48</td>\n",
       "      <td>180</td>\n",
       "      <td>32.9</td>\n",
       "      <td>0.171</td>\n",
       "      <td>63</td>\n",
       "      <td>0</td>\n",
       "      <td>34122</td>\n",
       "    </tr>\n",
       "    <tr>\n",
       "      <th>764</th>\n",
       "      <td>764</td>\n",
       "      <td>2</td>\n",
       "      <td>122.0</td>\n",
       "      <td>70</td>\n",
       "      <td>27</td>\n",
       "      <td>0</td>\n",
       "      <td>36.8</td>\n",
       "      <td>0.340</td>\n",
       "      <td>27</td>\n",
       "      <td>0</td>\n",
       "      <td>910613</td>\n",
       "    </tr>\n",
       "    <tr>\n",
       "      <th>765</th>\n",
       "      <td>765</td>\n",
       "      <td>5</td>\n",
       "      <td>121.0</td>\n",
       "      <td>72</td>\n",
       "      <td>23</td>\n",
       "      <td>112</td>\n",
       "      <td>26.2</td>\n",
       "      <td>0.245</td>\n",
       "      <td>30</td>\n",
       "      <td>0</td>\n",
       "      <td>168350</td>\n",
       "    </tr>\n",
       "    <tr>\n",
       "      <th>766</th>\n",
       "      <td>766</td>\n",
       "      <td>1</td>\n",
       "      <td>126.0</td>\n",
       "      <td>60</td>\n",
       "      <td>0</td>\n",
       "      <td>0</td>\n",
       "      <td>30.1</td>\n",
       "      <td>0.349</td>\n",
       "      <td>47</td>\n",
       "      <td>1</td>\n",
       "      <td>122617</td>\n",
       "    </tr>\n",
       "    <tr>\n",
       "      <th>767</th>\n",
       "      <td>767</td>\n",
       "      <td>1</td>\n",
       "      <td>93.0</td>\n",
       "      <td>70</td>\n",
       "      <td>31</td>\n",
       "      <td>0</td>\n",
       "      <td>30.4</td>\n",
       "      <td>0.315</td>\n",
       "      <td>23</td>\n",
       "      <td>0</td>\n",
       "      <td>847022</td>\n",
       "    </tr>\n",
       "  </tbody>\n",
       "</table>\n",
       "<p>768 rows × 11 columns</p>\n",
       "</div>"
      ],
      "text/plain": [
       "     Unnamed: 0  Pregnancies  Glucose  BloodPressure  SkinThickness  Insulin  \\\n",
       "0             0            6    148.0             72             35        0   \n",
       "1             1            1     85.0             66             29        0   \n",
       "2             2            8    183.0             64              0        0   \n",
       "3             3            1     89.0             66             23       94   \n",
       "4             4            0    137.0             40             35      168   \n",
       "..          ...          ...      ...            ...            ...      ...   \n",
       "763         763           10    101.0             76             48      180   \n",
       "764         764            2    122.0             70             27        0   \n",
       "765         765            5    121.0             72             23      112   \n",
       "766         766            1    126.0             60              0        0   \n",
       "767         767            1     93.0             70             31        0   \n",
       "\n",
       "      BMI  DiabetesPedigreeFunction  Age  Outcome      ID  \n",
       "0    33.6                     0.627   50        1  254163  \n",
       "1    26.6                     0.351   31        0  717276  \n",
       "2    23.3                     0.672   32        1  578356  \n",
       "3    28.1                     0.167   21        0  882563  \n",
       "4    43.1                     2.288   33        1  830916  \n",
       "..    ...                       ...  ...      ...     ...  \n",
       "763  32.9                     0.171   63        0   34122  \n",
       "764  36.8                     0.340   27        0  910613  \n",
       "765  26.2                     0.245   30        0  168350  \n",
       "766  30.1                     0.349   47        1  122617  \n",
       "767  30.4                     0.315   23        0  847022  \n",
       "\n",
       "[768 rows x 11 columns]"
      ]
     },
     "execution_count": 61,
     "metadata": {},
     "output_type": "execute_result"
    }
   ],
   "source": [
    "data1"
   ]
  },
  {
   "cell_type": "code",
   "execution_count": 64,
   "id": "d6f59e46-fb6a-4915-8ff8-ed05a9df5d48",
   "metadata": {},
   "outputs": [],
   "source": [
    "from sklearn.linear_model import LogisticRegression"
   ]
  },
  {
   "cell_type": "code",
   "execution_count": 65,
   "id": "0dc470db-b806-4070-b8a8-4e79c3d2731c",
   "metadata": {},
   "outputs": [
    {
     "data": {
      "text/html": [
       "<div>\n",
       "<style scoped>\n",
       "    .dataframe tbody tr th:only-of-type {\n",
       "        vertical-align: middle;\n",
       "    }\n",
       "\n",
       "    .dataframe tbody tr th {\n",
       "        vertical-align: top;\n",
       "    }\n",
       "\n",
       "    .dataframe thead th {\n",
       "        text-align: right;\n",
       "    }\n",
       "</style>\n",
       "<table border=\"1\" class=\"dataframe\">\n",
       "  <thead>\n",
       "    <tr style=\"text-align: right;\">\n",
       "      <th></th>\n",
       "      <th>ID</th>\n",
       "      <th>Age</th>\n",
       "      <th>DiabetesPedigreeFunction</th>\n",
       "      <th>Outcome</th>\n",
       "    </tr>\n",
       "  </thead>\n",
       "  <tbody>\n",
       "    <tr>\n",
       "      <th>0</th>\n",
       "      <td>254163</td>\n",
       "      <td>50</td>\n",
       "      <td>0.627</td>\n",
       "      <td>1</td>\n",
       "    </tr>\n",
       "    <tr>\n",
       "      <th>1</th>\n",
       "      <td>717276</td>\n",
       "      <td>31</td>\n",
       "      <td>0.351</td>\n",
       "      <td>0</td>\n",
       "    </tr>\n",
       "    <tr>\n",
       "      <th>2</th>\n",
       "      <td>578356</td>\n",
       "      <td>32</td>\n",
       "      <td>0.672</td>\n",
       "      <td>1</td>\n",
       "    </tr>\n",
       "    <tr>\n",
       "      <th>3</th>\n",
       "      <td>882563</td>\n",
       "      <td>21</td>\n",
       "      <td>0.167</td>\n",
       "      <td>0</td>\n",
       "    </tr>\n",
       "    <tr>\n",
       "      <th>4</th>\n",
       "      <td>830916</td>\n",
       "      <td>33</td>\n",
       "      <td>2.288</td>\n",
       "      <td>1</td>\n",
       "    </tr>\n",
       "  </tbody>\n",
       "</table>\n",
       "</div>"
      ],
      "text/plain": [
       "       ID  Age  DiabetesPedigreeFunction  Outcome\n",
       "0  254163   50                     0.627        1\n",
       "1  717276   31                     0.351        0\n",
       "2  578356   32                     0.672        1\n",
       "3  882563   21                     0.167        0\n",
       "4  830916   33                     2.288        1"
      ]
     },
     "execution_count": 65,
     "metadata": {},
     "output_type": "execute_result"
    }
   ],
   "source": [
    "question15.head()"
   ]
  },
  {
   "cell_type": "code",
   "execution_count": 73,
   "id": "23059006-19ff-4f6c-8c58-edf67cadaae0",
   "metadata": {},
   "outputs": [],
   "source": [
    "X = question15[['Age', 'DiabetesPedigreeFunction']]\n",
    "y = question15['Outcome']"
   ]
  },
  {
   "cell_type": "code",
   "execution_count": 104,
   "id": "d06568b3-1723-4c3d-93d4-c8663c264880",
   "metadata": {},
   "outputs": [],
   "source": [
    "clf = LogisticRegression(random_state=0).fit(X, y)"
   ]
  },
  {
   "cell_type": "code",
   "execution_count": 105,
   "id": "7f087de8-64f1-4f03-a5dc-59ebd05f78d3",
   "metadata": {},
   "outputs": [
    {
     "data": {
      "text/html": [
       "<div>\n",
       "<style scoped>\n",
       "    .dataframe tbody tr th:only-of-type {\n",
       "        vertical-align: middle;\n",
       "    }\n",
       "\n",
       "    .dataframe tbody tr th {\n",
       "        vertical-align: top;\n",
       "    }\n",
       "\n",
       "    .dataframe thead th {\n",
       "        text-align: right;\n",
       "    }\n",
       "</style>\n",
       "<table border=\"1\" class=\"dataframe\">\n",
       "  <thead>\n",
       "    <tr style=\"text-align: right;\">\n",
       "      <th></th>\n",
       "      <th>0</th>\n",
       "    </tr>\n",
       "  </thead>\n",
       "  <tbody>\n",
       "    <tr>\n",
       "      <th>0</th>\n",
       "      <td>1</td>\n",
       "    </tr>\n",
       "    <tr>\n",
       "      <th>1</th>\n",
       "      <td>0</td>\n",
       "    </tr>\n",
       "    <tr>\n",
       "      <th>2</th>\n",
       "      <td>0</td>\n",
       "    </tr>\n",
       "    <tr>\n",
       "      <th>3</th>\n",
       "      <td>0</td>\n",
       "    </tr>\n",
       "    <tr>\n",
       "      <th>4</th>\n",
       "      <td>1</td>\n",
       "    </tr>\n",
       "  </tbody>\n",
       "</table>\n",
       "</div>"
      ],
      "text/plain": [
       "   0\n",
       "0  1\n",
       "1  0\n",
       "2  0\n",
       "3  0\n",
       "4  1"
      ]
     },
     "execution_count": 105,
     "metadata": {},
     "output_type": "execute_result"
    }
   ],
   "source": [
    "predictions = pd.DataFrame(clf.predict(X))\n",
    "predictions.head()"
   ]
  },
  {
   "cell_type": "code",
   "execution_count": 106,
   "id": "ada04d19-5fd0-4fa8-9fca-dd00f0c6b53a",
   "metadata": {},
   "outputs": [
    {
     "data": {
      "text/plain": [
       "0.6536458333333334"
      ]
     },
     "execution_count": 106,
     "metadata": {},
     "output_type": "execute_result"
    }
   ],
   "source": [
    "clf.score(X, y)"
   ]
  },
  {
   "cell_type": "code",
   "execution_count": null,
   "id": "b870843c-8f22-433a-8afa-e08ccd4d7ee1",
   "metadata": {},
   "outputs": [],
   "source": [
    "###Trying to do a correlation graph and see if there are any outliers"
   ]
  },
  {
   "cell_type": "code",
   "execution_count": 111,
   "id": "104df1bc-09c0-4ff9-b3ba-afe4d8b56174",
   "metadata": {},
   "outputs": [
    {
     "data": {
      "text/plain": [
       "<AxesSubplot: xlabel='Age', ylabel='DiabetesPedigreeFunction'>"
      ]
     },
     "execution_count": 111,
     "metadata": {},
     "output_type": "execute_result"
    },
    {
     "data": {
      "image/png": "[encoded data removed]",
      "text/plain": [
       "<Figure size 432x288 with 1 Axes>"
      ]
     },
     "metadata": {
      "needs_background": "light"
     },
     "output_type": "display_data"
    }
   ],
   "source": [
    "#question15.plot(x=\"Age\", y= \"DiabetesPedigreeFunction\", kind=\"scatter\", hue=) \n",
    "sns.scatterplot(data=question15, x=\"Age\", y=\"DiabetesPedigreeFunction\", hue=\"Outcome\")\n"
   ]
  },
  {
   "cell_type": "code",
   "execution_count": null,
   "id": "e52400da-122b-43a2-bc2b-6e561d503e44",
   "metadata": {},
   "outputs": [],
   "source": [
    "## As we can see there are some outliers in both outcomes whether its 0 or 1 "
   ]
  },
  {
   "cell_type": "code",
   "execution_count": 113,
   "id": "f89f153b-645b-444b-8cb7-e0b77f120dff",
   "metadata": {},
   "outputs": [],
   "source": [
    "from scipy  import stats"
   ]
  },
  {
   "cell_type": "code",
   "execution_count": 114,
   "id": "81968ac3-aa1e-415e-a020-fc2d04e23588",
   "metadata": {},
   "outputs": [],
   "source": [
    "import sklearn"
   ]
  },
  {
   "cell_type": "code",
   "execution_count": 115,
   "id": "dfa5d7de-bb88-4e56-b33e-1b6e23cebf90",
   "metadata": {},
   "outputs": [],
   "source": [
    "from sklearn.datasets import load_boston"
   ]
  },
  {
   "cell_type": "code",
   "execution_count": 116,
   "id": "99639f9d-28e9-4be9-823a-83371643fddf",
   "metadata": {},
   "outputs": [],
   "source": [
    "import seaborn as sns"
   ]
  },
  {
   "cell_type": "code",
   "execution_count": 120,
   "id": "933d7d4c-1fb5-430d-bd70-72ff6448b8bb",
   "metadata": {},
   "outputs": [
    {
     "data": {
      "text/plain": [
       "<AxesSubplot: >"
      ]
     },
     "execution_count": 120,
     "metadata": {},
     "output_type": "execute_result"
    },
    {
     "data": {
      "image/png": "[encoded data removed]",
      "text/plain": [
       "<Figure size 432x288 with 1 Axes>"
      ]
     },
     "metadata": {
      "needs_background": "light"
     },
     "output_type": "display_data"
    }
   ],
   "source": [
    "sns.boxplot(question15['DiabetesPedigreeFunction'])"
   ]
  },
  {
   "cell_type": "code",
   "execution_count": 121,
   "id": "7dcb22e7-f267-468f-9e94-945a220f5665",
   "metadata": {},
   "outputs": [
    {
     "data": {
      "text/plain": [
       "<AxesSubplot: >"
      ]
     },
     "execution_count": 121,
     "metadata": {},
     "output_type": "execute_result"
    },
    {
     "data": {
      "image/png": "[encoded data removed]",
      "text/plain": [
       "<Figure size 432x288 with 1 Axes>"
      ]
     },
     "metadata": {
      "needs_background": "light"
     },
     "output_type": "display_data"
    }
   ],
   "source": [
    "sns.boxplot(question15['Age'])"
   ]
  },
  {
   "cell_type": "code",
   "execution_count": 127,
   "id": "93076dda-0452-4e44-8fce-a9503a373a48",
   "metadata": {},
   "outputs": [
    {
     "data": {
      "text/plain": [
       "<AxesSubplot: xlabel='Outcome', ylabel='Age'>"
      ]
     },
     "execution_count": 127,
     "metadata": {},
     "output_type": "execute_result"
    },
    {
     "data": {
      "image/png": "[encoded data removed]",
      "text/plain": [
       "<Figure size 432x288 with 1 Axes>"
      ]
     },
     "metadata": {
      "needs_background": "light"
     },
     "output_type": "display_data"
    }
   ],
   "source": [
    "sns.boxplot(data = question15, x='Outcome', y='Age')"
   ]
  },
  {
   "cell_type": "code",
   "execution_count": 128,
   "id": "f54a1a2e-ccfe-4145-baf3-b84793503df6",
   "metadata": {},
   "outputs": [
    {
     "data": {
      "text/plain": [
       "<AxesSubplot: xlabel='Outcome', ylabel='DiabetesPedigreeFunction'>"
      ]
     },
     "execution_count": 128,
     "metadata": {},
     "output_type": "execute_result"
    },
    {
     "data": {
      "image/png": "[encoded data removed]",
      "text/plain": [
       "<Figure size 432x288 with 1 Axes>"
      ]
     },
     "metadata": {
      "needs_background": "light"
     },
     "output_type": "display_data"
    }
   ],
   "source": [
    "sns.boxplot(data = question15, x='Outcome', y='DiabetesPedigreeFunction')"
   ]
  },
  {
   "cell_type": "markdown",
   "id": "6e712971-03d8-4998-be7c-7a2837d1a634",
   "metadata": {
    "tags": []
   },
   "source": [
    "# This is ANCOVA Test"
   ]
  },
  {
   "cell_type": "code",
   "execution_count": 129,
   "id": "c370048d-1962-4d5a-9a4a-5f1308ada22a",
   "metadata": {},
   "outputs": [
    {
     "data": {
      "text/html": [
       "<div>\n",
       "<style scoped>\n",
       "    .dataframe tbody tr th:only-of-type {\n",
       "        vertical-align: middle;\n",
       "    }\n",
       "\n",
       "    .dataframe tbody tr th {\n",
       "        vertical-align: top;\n",
       "    }\n",
       "\n",
       "    .dataframe thead th {\n",
       "        text-align: right;\n",
       "    }\n",
       "</style>\n",
       "<table border=\"1\" class=\"dataframe\">\n",
       "  <thead>\n",
       "    <tr style=\"text-align: right;\">\n",
       "      <th></th>\n",
       "      <th>Unnamed: 0</th>\n",
       "      <th>Pregnancies</th>\n",
       "      <th>Glucose</th>\n",
       "      <th>BloodPressure</th>\n",
       "      <th>SkinThickness</th>\n",
       "      <th>Insulin</th>\n",
       "      <th>BMI</th>\n",
       "      <th>DiabetesPedigreeFunction</th>\n",
       "      <th>Age</th>\n",
       "      <th>Outcome</th>\n",
       "      <th>ID</th>\n",
       "    </tr>\n",
       "  </thead>\n",
       "  <tbody>\n",
       "    <tr>\n",
       "      <th>0</th>\n",
       "      <td>0</td>\n",
       "      <td>6</td>\n",
       "      <td>148.0</td>\n",
       "      <td>72</td>\n",
       "      <td>35</td>\n",
       "      <td>0</td>\n",
       "      <td>33.6</td>\n",
       "      <td>0.627</td>\n",
       "      <td>50</td>\n",
       "      <td>1</td>\n",
       "      <td>254163</td>\n",
       "    </tr>\n",
       "    <tr>\n",
       "      <th>1</th>\n",
       "      <td>1</td>\n",
       "      <td>1</td>\n",
       "      <td>85.0</td>\n",
       "      <td>66</td>\n",
       "      <td>29</td>\n",
       "      <td>0</td>\n",
       "      <td>26.6</td>\n",
       "      <td>0.351</td>\n",
       "      <td>31</td>\n",
       "      <td>0</td>\n",
       "      <td>717276</td>\n",
       "    </tr>\n",
       "    <tr>\n",
       "      <th>2</th>\n",
       "      <td>2</td>\n",
       "      <td>8</td>\n",
       "      <td>183.0</td>\n",
       "      <td>64</td>\n",
       "      <td>0</td>\n",
       "      <td>0</td>\n",
       "      <td>23.3</td>\n",
       "      <td>0.672</td>\n",
       "      <td>32</td>\n",
       "      <td>1</td>\n",
       "      <td>578356</td>\n",
       "    </tr>\n",
       "    <tr>\n",
       "      <th>3</th>\n",
       "      <td>3</td>\n",
       "      <td>1</td>\n",
       "      <td>89.0</td>\n",
       "      <td>66</td>\n",
       "      <td>23</td>\n",
       "      <td>94</td>\n",
       "      <td>28.1</td>\n",
       "      <td>0.167</td>\n",
       "      <td>21</td>\n",
       "      <td>0</td>\n",
       "      <td>882563</td>\n",
       "    </tr>\n",
       "    <tr>\n",
       "      <th>4</th>\n",
       "      <td>4</td>\n",
       "      <td>0</td>\n",
       "      <td>137.0</td>\n",
       "      <td>40</td>\n",
       "      <td>35</td>\n",
       "      <td>168</td>\n",
       "      <td>43.1</td>\n",
       "      <td>2.288</td>\n",
       "      <td>33</td>\n",
       "      <td>1</td>\n",
       "      <td>830916</td>\n",
       "    </tr>\n",
       "    <tr>\n",
       "      <th>...</th>\n",
       "      <td>...</td>\n",
       "      <td>...</td>\n",
       "      <td>...</td>\n",
       "      <td>...</td>\n",
       "      <td>...</td>\n",
       "      <td>...</td>\n",
       "      <td>...</td>\n",
       "      <td>...</td>\n",
       "      <td>...</td>\n",
       "      <td>...</td>\n",
       "      <td>...</td>\n",
       "    </tr>\n",
       "    <tr>\n",
       "      <th>763</th>\n",
       "      <td>763</td>\n",
       "      <td>10</td>\n",
       "      <td>101.0</td>\n",
       "      <td>76</td>\n",
       "      <td>48</td>\n",
       "      <td>180</td>\n",
       "      <td>32.9</td>\n",
       "      <td>0.171</td>\n",
       "      <td>63</td>\n",
       "      <td>0</td>\n",
       "      <td>34122</td>\n",
       "    </tr>\n",
       "    <tr>\n",
       "      <th>764</th>\n",
       "      <td>764</td>\n",
       "      <td>2</td>\n",
       "      <td>122.0</td>\n",
       "      <td>70</td>\n",
       "      <td>27</td>\n",
       "      <td>0</td>\n",
       "      <td>36.8</td>\n",
       "      <td>0.340</td>\n",
       "      <td>27</td>\n",
       "      <td>0</td>\n",
       "      <td>910613</td>\n",
       "    </tr>\n",
       "    <tr>\n",
       "      <th>765</th>\n",
       "      <td>765</td>\n",
       "      <td>5</td>\n",
       "      <td>121.0</td>\n",
       "      <td>72</td>\n",
       "      <td>23</td>\n",
       "      <td>112</td>\n",
       "      <td>26.2</td>\n",
       "      <td>0.245</td>\n",
       "      <td>30</td>\n",
       "      <td>0</td>\n",
       "      <td>168350</td>\n",
       "    </tr>\n",
       "    <tr>\n",
       "      <th>766</th>\n",
       "      <td>766</td>\n",
       "      <td>1</td>\n",
       "      <td>126.0</td>\n",
       "      <td>60</td>\n",
       "      <td>0</td>\n",
       "      <td>0</td>\n",
       "      <td>30.1</td>\n",
       "      <td>0.349</td>\n",
       "      <td>47</td>\n",
       "      <td>1</td>\n",
       "      <td>122617</td>\n",
       "    </tr>\n",
       "    <tr>\n",
       "      <th>767</th>\n",
       "      <td>767</td>\n",
       "      <td>1</td>\n",
       "      <td>93.0</td>\n",
       "      <td>70</td>\n",
       "      <td>31</td>\n",
       "      <td>0</td>\n",
       "      <td>30.4</td>\n",
       "      <td>0.315</td>\n",
       "      <td>23</td>\n",
       "      <td>0</td>\n",
       "      <td>847022</td>\n",
       "    </tr>\n",
       "  </tbody>\n",
       "</table>\n",
       "<p>768 rows × 11 columns</p>\n",
       "</div>"
      ],
      "text/plain": [
       "     Unnamed: 0  Pregnancies  Glucose  BloodPressure  SkinThickness  Insulin  \\\n",
       "0             0            6    148.0             72             35        0   \n",
       "1             1            1     85.0             66             29        0   \n",
       "2             2            8    183.0             64              0        0   \n",
       "3             3            1     89.0             66             23       94   \n",
       "4             4            0    137.0             40             35      168   \n",
       "..          ...          ...      ...            ...            ...      ...   \n",
       "763         763           10    101.0             76             48      180   \n",
       "764         764            2    122.0             70             27        0   \n",
       "765         765            5    121.0             72             23      112   \n",
       "766         766            1    126.0             60              0        0   \n",
       "767         767            1     93.0             70             31        0   \n",
       "\n",
       "      BMI  DiabetesPedigreeFunction  Age  Outcome      ID  \n",
       "0    33.6                     0.627   50        1  254163  \n",
       "1    26.6                     0.351   31        0  717276  \n",
       "2    23.3                     0.672   32        1  578356  \n",
       "3    28.1                     0.167   21        0  882563  \n",
       "4    43.1                     2.288   33        1  830916  \n",
       "..    ...                       ...  ...      ...     ...  \n",
       "763  32.9                     0.171   63        0   34122  \n",
       "764  36.8                     0.340   27        0  910613  \n",
       "765  26.2                     0.245   30        0  168350  \n",
       "766  30.1                     0.349   47        1  122617  \n",
       "767  30.4                     0.315   23        0  847022  \n",
       "\n",
       "[768 rows x 11 columns]"
      ]
     },
     "execution_count": 129,
     "metadata": {},
     "output_type": "execute_result"
    }
   ],
   "source": [
    "data1"
   ]
  },
  {
   "cell_type": "code",
   "execution_count": 141,
   "id": "e267a527-06e3-42bf-a9f5-589598e80966",
   "metadata": {},
   "outputs": [],
   "source": [
    "##user function to category\n",
    "def assign_to_category(x):\n",
    "    if x <= 3:\n",
    "        return '0-3'\n",
    "    elif (x > 4 and x <= 8):\n",
    "        return '4-8'\n",
    "    elif (x > 9 and x <= 12):\n",
    "        return '9-12'\n",
    "    elif (x > 13 and x <= 17):\n",
    "        return '13-17'"
   ]
  },
  {
   "cell_type": "code",
   "execution_count": 145,
   "id": "d912233e-72fe-4373-8b3c-7222c4c4a070",
   "metadata": {},
   "outputs": [],
   "source": [
    "## apply above function on Pregnancies column\n",
    "data1['Pregnancies_category'] = data1['Pregnancies'].apply(assign_to_category)"
   ]
  },
  {
   "cell_type": "code",
   "execution_count": 146,
   "id": "a843ad89-5132-4d38-b60d-790f78fecaa9",
   "metadata": {},
   "outputs": [
    {
     "data": {
      "text/html": [
       "<div>\n",
       "<style scoped>\n",
       "    .dataframe tbody tr th:only-of-type {\n",
       "        vertical-align: middle;\n",
       "    }\n",
       "\n",
       "    .dataframe tbody tr th {\n",
       "        vertical-align: top;\n",
       "    }\n",
       "\n",
       "    .dataframe thead th {\n",
       "        text-align: right;\n",
       "    }\n",
       "</style>\n",
       "<table border=\"1\" class=\"dataframe\">\n",
       "  <thead>\n",
       "    <tr style=\"text-align: right;\">\n",
       "      <th></th>\n",
       "      <th>Unnamed: 0</th>\n",
       "      <th>Pregnancies</th>\n",
       "      <th>Glucose</th>\n",
       "      <th>BloodPressure</th>\n",
       "      <th>SkinThickness</th>\n",
       "      <th>Insulin</th>\n",
       "      <th>BMI</th>\n",
       "      <th>DiabetesPedigreeFunction</th>\n",
       "      <th>Age</th>\n",
       "      <th>Outcome</th>\n",
       "      <th>ID</th>\n",
       "      <th>Pregnancies_category</th>\n",
       "    </tr>\n",
       "  </thead>\n",
       "  <tbody>\n",
       "    <tr>\n",
       "      <th>0</th>\n",
       "      <td>0</td>\n",
       "      <td>6</td>\n",
       "      <td>148.0</td>\n",
       "      <td>72</td>\n",
       "      <td>35</td>\n",
       "      <td>0</td>\n",
       "      <td>33.6</td>\n",
       "      <td>0.627</td>\n",
       "      <td>50</td>\n",
       "      <td>1</td>\n",
       "      <td>254163</td>\n",
       "      <td>4-8</td>\n",
       "    </tr>\n",
       "    <tr>\n",
       "      <th>1</th>\n",
       "      <td>1</td>\n",
       "      <td>1</td>\n",
       "      <td>85.0</td>\n",
       "      <td>66</td>\n",
       "      <td>29</td>\n",
       "      <td>0</td>\n",
       "      <td>26.6</td>\n",
       "      <td>0.351</td>\n",
       "      <td>31</td>\n",
       "      <td>0</td>\n",
       "      <td>717276</td>\n",
       "      <td>0-3</td>\n",
       "    </tr>\n",
       "    <tr>\n",
       "      <th>2</th>\n",
       "      <td>2</td>\n",
       "      <td>8</td>\n",
       "      <td>183.0</td>\n",
       "      <td>64</td>\n",
       "      <td>0</td>\n",
       "      <td>0</td>\n",
       "      <td>23.3</td>\n",
       "      <td>0.672</td>\n",
       "      <td>32</td>\n",
       "      <td>1</td>\n",
       "      <td>578356</td>\n",
       "      <td>4-8</td>\n",
       "    </tr>\n",
       "    <tr>\n",
       "      <th>3</th>\n",
       "      <td>3</td>\n",
       "      <td>1</td>\n",
       "      <td>89.0</td>\n",
       "      <td>66</td>\n",
       "      <td>23</td>\n",
       "      <td>94</td>\n",
       "      <td>28.1</td>\n",
       "      <td>0.167</td>\n",
       "      <td>21</td>\n",
       "      <td>0</td>\n",
       "      <td>882563</td>\n",
       "      <td>0-3</td>\n",
       "    </tr>\n",
       "    <tr>\n",
       "      <th>4</th>\n",
       "      <td>4</td>\n",
       "      <td>0</td>\n",
       "      <td>137.0</td>\n",
       "      <td>40</td>\n",
       "      <td>35</td>\n",
       "      <td>168</td>\n",
       "      <td>43.1</td>\n",
       "      <td>2.288</td>\n",
       "      <td>33</td>\n",
       "      <td>1</td>\n",
       "      <td>830916</td>\n",
       "      <td>0-3</td>\n",
       "    </tr>\n",
       "    <tr>\n",
       "      <th>...</th>\n",
       "      <td>...</td>\n",
       "      <td>...</td>\n",
       "      <td>...</td>\n",
       "      <td>...</td>\n",
       "      <td>...</td>\n",
       "      <td>...</td>\n",
       "      <td>...</td>\n",
       "      <td>...</td>\n",
       "      <td>...</td>\n",
       "      <td>...</td>\n",
       "      <td>...</td>\n",
       "      <td>...</td>\n",
       "    </tr>\n",
       "    <tr>\n",
       "      <th>763</th>\n",
       "      <td>763</td>\n",
       "      <td>10</td>\n",
       "      <td>101.0</td>\n",
       "      <td>76</td>\n",
       "      <td>48</td>\n",
       "      <td>180</td>\n",
       "      <td>32.9</td>\n",
       "      <td>0.171</td>\n",
       "      <td>63</td>\n",
       "      <td>0</td>\n",
       "      <td>34122</td>\n",
       "      <td>9-12</td>\n",
       "    </tr>\n",
       "    <tr>\n",
       "      <th>764</th>\n",
       "      <td>764</td>\n",
       "      <td>2</td>\n",
       "      <td>122.0</td>\n",
       "      <td>70</td>\n",
       "      <td>27</td>\n",
       "      <td>0</td>\n",
       "      <td>36.8</td>\n",
       "      <td>0.340</td>\n",
       "      <td>27</td>\n",
       "      <td>0</td>\n",
       "      <td>910613</td>\n",
       "      <td>0-3</td>\n",
       "    </tr>\n",
       "    <tr>\n",
       "      <th>765</th>\n",
       "      <td>765</td>\n",
       "      <td>5</td>\n",
       "      <td>121.0</td>\n",
       "      <td>72</td>\n",
       "      <td>23</td>\n",
       "      <td>112</td>\n",
       "      <td>26.2</td>\n",
       "      <td>0.245</td>\n",
       "      <td>30</td>\n",
       "      <td>0</td>\n",
       "      <td>168350</td>\n",
       "      <td>4-8</td>\n",
       "    </tr>\n",
       "    <tr>\n",
       "      <th>766</th>\n",
       "      <td>766</td>\n",
       "      <td>1</td>\n",
       "      <td>126.0</td>\n",
       "      <td>60</td>\n",
       "      <td>0</td>\n",
       "      <td>0</td>\n",
       "      <td>30.1</td>\n",
       "      <td>0.349</td>\n",
       "      <td>47</td>\n",
       "      <td>1</td>\n",
       "      <td>122617</td>\n",
       "      <td>0-3</td>\n",
       "    </tr>\n",
       "    <tr>\n",
       "      <th>767</th>\n",
       "      <td>767</td>\n",
       "      <td>1</td>\n",
       "      <td>93.0</td>\n",
       "      <td>70</td>\n",
       "      <td>31</td>\n",
       "      <td>0</td>\n",
       "      <td>30.4</td>\n",
       "      <td>0.315</td>\n",
       "      <td>23</td>\n",
       "      <td>0</td>\n",
       "      <td>847022</td>\n",
       "      <td>0-3</td>\n",
       "    </tr>\n",
       "  </tbody>\n",
       "</table>\n",
       "<p>768 rows × 12 columns</p>\n",
       "</div>"
      ],
      "text/plain": [
       "     Unnamed: 0  Pregnancies  Glucose  BloodPressure  SkinThickness  Insulin  \\\n",
       "0             0            6    148.0             72             35        0   \n",
       "1             1            1     85.0             66             29        0   \n",
       "2             2            8    183.0             64              0        0   \n",
       "3             3            1     89.0             66             23       94   \n",
       "4             4            0    137.0             40             35      168   \n",
       "..          ...          ...      ...            ...            ...      ...   \n",
       "763         763           10    101.0             76             48      180   \n",
       "764         764            2    122.0             70             27        0   \n",
       "765         765            5    121.0             72             23      112   \n",
       "766         766            1    126.0             60              0        0   \n",
       "767         767            1     93.0             70             31        0   \n",
       "\n",
       "      BMI  DiabetesPedigreeFunction  Age  Outcome      ID Pregnancies_category  \n",
       "0    33.6                     0.627   50        1  254163                  4-8  \n",
       "1    26.6                     0.351   31        0  717276                  0-3  \n",
       "2    23.3                     0.672   32        1  578356                  4-8  \n",
       "3    28.1                     0.167   21        0  882563                  0-3  \n",
       "4    43.1                     2.288   33        1  830916                  0-3  \n",
       "..    ...                       ...  ...      ...     ...                  ...  \n",
       "763  32.9                     0.171   63        0   34122                 9-12  \n",
       "764  36.8                     0.340   27        0  910613                  0-3  \n",
       "765  26.2                     0.245   30        0  168350                  4-8  \n",
       "766  30.1                     0.349   47        1  122617                  0-3  \n",
       "767  30.4                     0.315   23        0  847022                  0-3  \n",
       "\n",
       "[768 rows x 12 columns]"
      ]
     },
     "execution_count": 146,
     "metadata": {},
     "output_type": "execute_result"
    }
   ],
   "source": [
    "data1"
   ]
  },
  {
   "cell_type": "code",
   "execution_count": 147,
   "id": "7920155c-94b1-42d4-aa3d-5c29cdee8dd1",
   "metadata": {},
   "outputs": [],
   "source": [
    "import statsmodels.api as sm\n",
    "from statsmodels.formula.api import ols"
   ]
  },
  {
   "cell_type": "code",
   "execution_count": 149,
   "id": "f47d7ae8-afdb-4ad5-93c2-7c98e6d926cd",
   "metadata": {},
   "outputs": [
    {
     "data": {
      "text/html": [
       "<div>\n",
       "<style scoped>\n",
       "    .dataframe tbody tr th:only-of-type {\n",
       "        vertical-align: middle;\n",
       "    }\n",
       "\n",
       "    .dataframe tbody tr th {\n",
       "        vertical-align: top;\n",
       "    }\n",
       "\n",
       "    .dataframe thead th {\n",
       "        text-align: right;\n",
       "    }\n",
       "</style>\n",
       "<table border=\"1\" class=\"dataframe\">\n",
       "  <thead>\n",
       "    <tr style=\"text-align: right;\">\n",
       "      <th></th>\n",
       "      <th>dependent_variable</th>\n",
       "      <th>group</th>\n",
       "      <th>covariate</th>\n",
       "    </tr>\n",
       "  </thead>\n",
       "  <tbody>\n",
       "    <tr>\n",
       "      <th>0</th>\n",
       "      <td>8</td>\n",
       "      <td>A</td>\n",
       "      <td>20</td>\n",
       "    </tr>\n",
       "    <tr>\n",
       "      <th>1</th>\n",
       "      <td>7</td>\n",
       "      <td>A</td>\n",
       "      <td>30</td>\n",
       "    </tr>\n",
       "    <tr>\n",
       "      <th>2</th>\n",
       "      <td>9</td>\n",
       "      <td>A</td>\n",
       "      <td>40</td>\n",
       "    </tr>\n",
       "    <tr>\n",
       "      <th>3</th>\n",
       "      <td>11</td>\n",
       "      <td>B</td>\n",
       "      <td>30</td>\n",
       "    </tr>\n",
       "    <tr>\n",
       "      <th>4</th>\n",
       "      <td>10</td>\n",
       "      <td>B</td>\n",
       "      <td>40</td>\n",
       "    </tr>\n",
       "    <tr>\n",
       "      <th>5</th>\n",
       "      <td>12</td>\n",
       "      <td>B</td>\n",
       "      <td>50</td>\n",
       "    </tr>\n",
       "    <tr>\n",
       "      <th>6</th>\n",
       "      <td>14</td>\n",
       "      <td>C</td>\n",
       "      <td>40</td>\n",
       "    </tr>\n",
       "    <tr>\n",
       "      <th>7</th>\n",
       "      <td>13</td>\n",
       "      <td>C</td>\n",
       "      <td>50</td>\n",
       "    </tr>\n",
       "    <tr>\n",
       "      <th>8</th>\n",
       "      <td>15</td>\n",
       "      <td>C</td>\n",
       "      <td>60</td>\n",
       "    </tr>\n",
       "    <tr>\n",
       "      <th>9</th>\n",
       "      <td>16</td>\n",
       "      <td>C</td>\n",
       "      <td>70</td>\n",
       "    </tr>\n",
       "  </tbody>\n",
       "</table>\n",
       "</div>"
      ],
      "text/plain": [
       "   dependent_variable group  covariate\n",
       "0                   8     A         20\n",
       "1                   7     A         30\n",
       "2                   9     A         40\n",
       "3                  11     B         30\n",
       "4                  10     B         40\n",
       "5                  12     B         50\n",
       "6                  14     C         40\n",
       "7                  13     C         50\n",
       "8                  15     C         60\n",
       "9                  16     C         70"
      ]
     },
     "execution_count": 149,
     "metadata": {},
     "output_type": "execute_result"
    }
   ],
   "source": [
    "#this is just an example dataframe\n",
    "df = pd.DataFrame({'dependent_variable' : [8, 7, 9, 11, 10, 12, 14, 13, 15, 16],\n",
    "   'group' : [\"A\", \"A\", \"A\", \"B\", \"B\", \"B\", \"C\", \"C\", \"C\", \"C\"],\n",
    "    'covariate' : [20, 30, 40, 30, 40, 50, 40, 50, 60, 70]})\n",
    "df"
   ]
  },
  {
   "cell_type": "code",
   "execution_count": 171,
   "id": "cc22e481-b6c3-4954-8fe8-16094cc91b3f",
   "metadata": {},
   "outputs": [
    {
     "name": "stdout",
     "output_type": "stream",
     "text": [
      "                            OLS Regression Results                            \n",
      "==============================================================================\n",
      "Dep. Variable:          BloodPressure   R-squared:                       0.026\n",
      "Model:                            OLS   Adj. R-squared:                  0.020\n",
      "Method:                 Least Squares   F-statistic:                     4.415\n",
      "Date:                Mon, 27 Feb 2023   Prob (F-statistic):            0.00158\n",
      "Time:                        17:28:43   Log-Likelihood:                -2895.4\n",
      "No. Observations:                 662   AIC:                             5801.\n",
      "Df Residuals:                     657   BIC:                             5823.\n",
      "Df Model:                           4                                         \n",
      "Covariance Type:            nonrobust                                         \n",
      "=================================================================================================\n",
      "                                    coef    std err          t      P>|t|      [0.025      0.975]\n",
      "-------------------------------------------------------------------------------------------------\n",
      "Intercept                        64.9922      1.455     44.679      0.000      62.136      67.849\n",
      "Pregnancies_category[T.13-17]     4.4306      9.682      0.458      0.647     -14.581      23.442\n",
      "Pregnancies_category[T.4-8]       6.4923      1.686      3.851      0.000       3.182       9.803\n",
      "Pregnancies_category[T.9-12]      6.1939      3.052      2.029      0.043       0.201      12.187\n",
      "DiabetesPedigreeFunction          2.7032      2.286      1.182      0.237      -1.786       7.192\n",
      "==============================================================================\n",
      "Omnibus:                      268.669   Durbin-Watson:                   2.006\n",
      "Prob(Omnibus):                  0.000   Jarque-Bera (JB):             1127.976\n",
      "Skew:                          -1.859   Prob(JB):                    1.16e-245\n",
      "Kurtosis:                       8.203   Cond. No.                         15.0\n",
      "==============================================================================\n",
      "\n",
      "Notes:\n",
      "[1] Standard Errors assume that the covariance matrix of the errors is correctly specified.\n"
     ]
    }
   ],
   "source": [
    "# Perform the ANCOVA\n",
    "#model = ols('dependent_variable ~ group + covariate', data=df).fit()-EXAMPLE\n",
    "\n",
    "model = ols('BloodPressure ~ Pregnancies_category + DiabetesPedigreeFunction ', data= data1).fit()\n",
    "\n",
    "\n",
    "# Print the summary of the model\n",
    "print(model.summary())"
   ]
  },
  {
   "cell_type": "code",
   "execution_count": null,
   "id": "9ebba487-5b33-4a65-aec3-09c08b4ceae6",
   "metadata": {},
   "outputs": [],
   "source": [
    "##In detailed analysis of the ANCOVA is also in R. With changing the normalcy and testing the homogeneity and the POST HOCS analysis."
   ]
  },
  {
   "cell_type": "code",
   "execution_count": 172,
   "id": "67d6eed5-5be8-4bc9-bd70-7ac3babad299",
   "metadata": {},
   "outputs": [],
   "source": [
    "### THIS WILL BE CHI SQUARE ANALYSIS"
   ]
  },
  {
   "cell_type": "code",
   "execution_count": 173,
   "id": "c5a122a1-e540-4717-97ae-53ba450c6384",
   "metadata": {},
   "outputs": [],
   "source": [
    "###first the categories need to be laid out, recoding the pregnancies into the 4 categories as stated above "
   ]
  },
  {
   "cell_type": "code",
   "execution_count": 174,
   "id": "136fd281-b68e-4f33-a901-f1babe747446",
   "metadata": {},
   "outputs": [],
   "source": [
    "#here is the Independent chi-square analysis "
   ]
  },
  {
   "cell_type": "code",
   "execution_count": 175,
   "id": "91f629e0-cbdd-431d-993a-1ac5115da830",
   "metadata": {},
   "outputs": [],
   "source": [
    "from scipy import stats"
   ]
  },
  {
   "cell_type": "code",
   "execution_count": 212,
   "id": "09bdac77-6cba-438c-b0a2-305268883522",
   "metadata": {},
   "outputs": [
    {
     "data": {
      "text/html": [
       "<div>\n",
       "<style scoped>\n",
       "    .dataframe tbody tr th:only-of-type {\n",
       "        vertical-align: middle;\n",
       "    }\n",
       "\n",
       "    .dataframe tbody tr th {\n",
       "        vertical-align: top;\n",
       "    }\n",
       "\n",
       "    .dataframe thead th {\n",
       "        text-align: right;\n",
       "    }\n",
       "</style>\n",
       "<table border=\"1\" class=\"dataframe\">\n",
       "  <thead>\n",
       "    <tr style=\"text-align: right;\">\n",
       "      <th>Outcome</th>\n",
       "      <th>0</th>\n",
       "      <th>1</th>\n",
       "    </tr>\n",
       "    <tr>\n",
       "      <th>Pregnancies_category</th>\n",
       "      <th></th>\n",
       "      <th></th>\n",
       "    </tr>\n",
       "  </thead>\n",
       "  <tbody>\n",
       "    <tr>\n",
       "      <th>0-3</th>\n",
       "      <td>311</td>\n",
       "      <td>113</td>\n",
       "    </tr>\n",
       "    <tr>\n",
       "      <th>4-8</th>\n",
       "      <td>106</td>\n",
       "      <td>84</td>\n",
       "    </tr>\n",
       "    <tr>\n",
       "      <th>9-12</th>\n",
       "      <td>23</td>\n",
       "      <td>21</td>\n",
       "    </tr>\n",
       "    <tr>\n",
       "      <th>13-17</th>\n",
       "      <td>0</td>\n",
       "      <td>4</td>\n",
       "    </tr>\n",
       "  </tbody>\n",
       "</table>\n",
       "</div>"
      ],
      "text/plain": [
       "Outcome                 0    1\n",
       "Pregnancies_category          \n",
       "0-3                   311  113\n",
       "4-8                   106   84\n",
       "9-12                   23   21\n",
       "13-17                   0    4"
      ]
     },
     "execution_count": 212,
     "metadata": {},
     "output_type": "execute_result"
    }
   ],
   "source": [
    "chi_sq = pd.crosstab(data1.Pregnancies_category, data1.Outcome, margins=True).sort_values(by=['All'], ascending=False).drop(columns=['All']).iloc[1:]\n",
    "chi_sq"
   ]
  },
  {
   "cell_type": "code",
   "execution_count": 186,
   "id": "7e0cfdbf-6924-4e4c-9856-7780e60cd660",
   "metadata": {},
   "outputs": [],
   "source": [
    "#as seen in the chi-square crosstab there are more women that have ben diagnosed with diabetes than NOT.\n",
    "##This can be seen that that most of the women lie under 0-3 pregnancies and ,\n",
    "##only 1/3 of the population has diabetes indicating there are other factors other than number of pregnancies that will indicate if they will have diabetes or not."
   ]
  },
  {
   "cell_type": "code",
   "execution_count": 230,
   "id": "291e8b45-0e38-4e47-8168-c743280b07fc",
   "metadata": {},
   "outputs": [
    {
     "data": {
      "text/html": [
       "<div>\n",
       "<style scoped>\n",
       "    .dataframe tbody tr th:only-of-type {\n",
       "        vertical-align: middle;\n",
       "    }\n",
       "\n",
       "    .dataframe tbody tr th {\n",
       "        vertical-align: top;\n",
       "    }\n",
       "\n",
       "    .dataframe thead th {\n",
       "        text-align: right;\n",
       "    }\n",
       "</style>\n",
       "<table border=\"1\" class=\"dataframe\">\n",
       "  <thead>\n",
       "    <tr style=\"text-align: right;\">\n",
       "      <th></th>\n",
       "      <th>Pregnancies_category</th>\n",
       "      <th>Outcome</th>\n",
       "      <th>value</th>\n",
       "    </tr>\n",
       "  </thead>\n",
       "  <tbody>\n",
       "    <tr>\n",
       "      <th>0</th>\n",
       "      <td>0-3</td>\n",
       "      <td>0</td>\n",
       "      <td>311</td>\n",
       "    </tr>\n",
       "    <tr>\n",
       "      <th>1</th>\n",
       "      <td>4-8</td>\n",
       "      <td>0</td>\n",
       "      <td>106</td>\n",
       "    </tr>\n",
       "    <tr>\n",
       "      <th>2</th>\n",
       "      <td>9-12</td>\n",
       "      <td>0</td>\n",
       "      <td>23</td>\n",
       "    </tr>\n",
       "    <tr>\n",
       "      <th>3</th>\n",
       "      <td>13-17</td>\n",
       "      <td>0</td>\n",
       "      <td>0</td>\n",
       "    </tr>\n",
       "    <tr>\n",
       "      <th>4</th>\n",
       "      <td>0-3</td>\n",
       "      <td>1</td>\n",
       "      <td>113</td>\n",
       "    </tr>\n",
       "    <tr>\n",
       "      <th>5</th>\n",
       "      <td>4-8</td>\n",
       "      <td>1</td>\n",
       "      <td>84</td>\n",
       "    </tr>\n",
       "    <tr>\n",
       "      <th>6</th>\n",
       "      <td>9-12</td>\n",
       "      <td>1</td>\n",
       "      <td>21</td>\n",
       "    </tr>\n",
       "    <tr>\n",
       "      <th>7</th>\n",
       "      <td>13-17</td>\n",
       "      <td>1</td>\n",
       "      <td>4</td>\n",
       "    </tr>\n",
       "  </tbody>\n",
       "</table>\n",
       "</div>"
      ],
      "text/plain": [
       "  Pregnancies_category Outcome  value\n",
       "0                  0-3       0    311\n",
       "1                  4-8       0    106\n",
       "2                 9-12       0     23\n",
       "3                13-17       0      0\n",
       "4                  0-3       1    113\n",
       "5                  4-8       1     84\n",
       "6                 9-12       1     21\n",
       "7                13-17       1      4"
      ]
     },
     "execution_count": 230,
     "metadata": {},
     "output_type": "execute_result"
    }
   ],
   "source": [
    "pd.melt(chi_sq.reset_index(drop = False), id_vars=['Pregnancies_category'], value_vars=[0,1])"
   ]
  },
  {
   "cell_type": "code",
   "execution_count": 231,
   "id": "81fe8a65-d4cb-4572-86ab-c16632e3ca31",
   "metadata": {},
   "outputs": [
    {
     "data": {
      "text/plain": [
       "<seaborn.axisgrid.FacetGrid at 0x286b8c640>"
      ]
     },
     "execution_count": 231,
     "metadata": {},
     "output_type": "execute_result"
    },
    {
     "data": {
      "image/png": "[encoded data removed]",
      "text/plain": [
       "<Figure size 413.25x360 with 1 Axes>"
      ]
     },
     "metadata": {
      "needs_background": "light"
     },
     "output_type": "display_data"
    }
   ],
   "source": [
    "sns.catplot(data= pd.melt(chi_sq.reset_index(drop = False), id_vars=['Pregnancies_category'], value_vars=[0,1]), \n",
    "            kind = 'bar', x = 'Pregnancies_category', y='value', hue='Outcome')"
   ]
  },
  {
   "cell_type": "code",
   "execution_count": null,
   "id": "12de5a54-5070-4bf2-a354-d63c96093942",
   "metadata": {},
   "outputs": [],
   "source": [
    "##Plotting the results to visualize this "
   ]
  },
  {
   "cell_type": "code",
   "execution_count": 187,
   "id": "57c186ea-b368-4073-813d-5fe89e781cfb",
   "metadata": {},
   "outputs": [
    {
     "data": {
      "text/plain": [
       "(30.63403404104779,\n",
       " 0.00016320705468634753,\n",
       " 8,\n",
       " array([[281.81268882, 142.18731118, 424.        ],\n",
       "        [  2.65861027,   1.34138973,   4.        ],\n",
       "        [126.28398792,  63.71601208, 190.        ],\n",
       "        [ 29.24471299,  14.75528701,  44.        ],\n",
       "        [440.        , 222.        , 662.        ]]))"
      ]
     },
     "execution_count": 187,
     "metadata": {},
     "output_type": "execute_result"
    }
   ],
   "source": [
    "stats.chi2_contingency(chi_sq)"
   ]
  },
  {
   "cell_type": "code",
   "execution_count": 188,
   "id": "3d3c839d-89df-40cb-9b0c-f73859893178",
   "metadata": {},
   "outputs": [],
   "source": [
    "##the p-value is less than 0.05 signifying that it IS SIGNIFICANT REJECTING The NULL hypothesis that there is NO effect on number of pregnancies on the outcome. \n",
    "##Hence it can be NOTED that there is a significant effect on the number of pregnancy you have on whether they will have diabetes\\(outcome) or not BUT\n",
    "##That is not the ONLY effect as it doesnt stand true for all number of pregnancies"
   ]
  },
  {
   "cell_type": "code",
   "execution_count": 193,
   "id": "77132078-bd2a-423c-bbf1-5d31f47670b7",
   "metadata": {},
   "outputs": [],
   "source": [
    "import numpy as np\n",
    "import matplotlib.pyplot as plt\n",
    "from scipy.stats import chi2"
   ]
  },
  {
   "cell_type": "code",
   "execution_count": null,
   "id": "ba82b020-9282-496a-b610-58ee796bb1e1",
   "metadata": {},
   "outputs": [],
   "source": []
  }
 ],
 "metadata": {
  "kernelspec": {
   "display_name": "Python 3 (ipykernel)",
   "language": "python",
   "name": "python3"
  },
  "language_info": {
   "codemirror_mode": {
    "name": "ipython",
    "version": 3
   },
   "file_extension": ".py",
   "mimetype": "text/x-python",
   "name": "python",
   "nbconvert_exporter": "python",
   "pygments_lexer": "ipython3",
   "version": "3.10.5"
  }
 },
 "nbformat": 4,
 "nbformat_minor": 5
}
